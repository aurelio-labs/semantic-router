{
 "cells": [
  {
   "cell_type": "markdown",
   "metadata": {},
   "source": [
    "# Using LocalEncoder for Local Embeddings\n",
    "\n",
    "This notebook demonstrates how to use the `LocalEncoder` from `semantic-router` to generate embeddings locally using [sentence-transformers](https://www.sbert.net/).\n",
    "\n",
    "No API key is required. All computation happens on your machine (CPU, CUDA, or MPS)."
   ]
  },
  {
   "cell_type": "code",
   "execution_count": null,
   "metadata": {},
   "outputs": [],
   "source": [
    "# Install dependencies if needed\n",
    "# !pip install -qU \"semantic-router[local]\""
   ]
  },
  {
   "cell_type": "markdown",
   "metadata": {},
   "source": [
    "## Example Texts\n",
    "Let's define a few example texts to embed."
   ]
  },
  {
   "cell_type": "code",
   "execution_count": 1,
   "metadata": {},
   "outputs": [],
   "source": [
    "docs = [\n",
    "    'The quick brown fox jumps over the lazy dog.',\n",
    "    'Artificial intelligence is transforming the world.',\n",
    "    'Semantic search improves information retrieval.',\n",
    "    'Local models run without internet access.',\n",
    "    'Sentence Transformers provide high-quality embeddings.'\n",
    "]"
   ]
  },
  {
   "cell_type": "markdown",
   "metadata": {},
   "source": [
    "## Initialize LocalEncoder\n",
    "You can specify a model from [sentence-transformers](https://www.sbert.net/docs/pretrained_models.html). The default is `BAAI/bge-small-en-v1.5`."
   ]
  },
  {
   "cell_type": "code",
   "execution_count": null,
   "metadata": {},
   "outputs": [],
   "source": [
    "from semantic_router.encoders.local import LocalEncoder\n",
    "\n",
    "encoder = LocalEncoder()  # You can specify name='all-MiniLM-L6-v2', etc.\n",
    "print(f'Using model: {encoder.name}')\n",
    "print(f'Device: {encoder.device}')"
   ]
  },
  {
   "cell_type": "markdown",
   "metadata": {},
   "source": [
    "## Encode the Texts\n",
    "Let's generate embeddings for our example texts."
   ]
  },
  {
   "cell_type": "code",
   "execution_count": null,
   "metadata": {},
   "outputs": [],
   "source": [
    "embeddings = encoder(docs)\n",
    "print(f'Generated {len(embeddings)} embeddings. Example:')\n",
    "print(embeddings[0][:10])  # Show first 10 dimensions of the first embedding"
   ]
  },
  {
   "cell_type": "markdown",
   "metadata": {},
   "source": [
    "## Notes\n",
    "- Embeddings are computed locally, so no data leaves your machine.\n",
    "- You can use any compatible sentence-transformers model by changing the `name` parameter.\n",
    "- The encoder will use CUDA or MPS if available, otherwise CPU.\n",
    "- Embeddings are normalized by default (L2 norm = 1).\n",
    "\n",
    "For more details, see the [sentence-transformers documentation](https://www.sbert.net/)."
   ]
  }
 ],
 "metadata": {
  "kernelspec": {
   "display_name": ".venv",
   "language": "python",
   "name": "python3"
  },
  "language_info": {
   "codemirror_mode": {
    "name": "ipython",
    "version": 3
   },
   "file_extension": ".py",
   "mimetype": "text/x-python",
   "name": "python",
   "nbconvert_exporter": "python",
   "pygments_lexer": "ipython3",
   "version": "3.13.2"
  }
 },
 "nbformat": 4,
 "nbformat_minor": 2
}
