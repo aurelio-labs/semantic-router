{
 "cells": [
  {
   "metadata": {},
   "cell_type": "markdown",
   "source": "# Using GigaChatEncoder",
   "id": "35d3b3544b0b2bf5"
  },
  {
   "metadata": {},
   "cell_type": "markdown",
   "source": "## Getting Started",
   "id": "8a04e30ad27664cb"
  },
  {
   "metadata": {},
   "cell_type": "markdown",
   "source": "We start by installing semantic-router.",
   "id": "e15f40cfbd181277"
  },
  {
   "metadata": {},
   "cell_type": "code",
   "outputs": [],
   "execution_count": null,
   "source": "!pip install -qU semantic-router",
   "id": "a22753e184585d66"
  },
  {
   "metadata": {},
   "cell_type": "markdown",
   "source": "We start by defining a dictionary mapping routes to example phrases that should trigger those routes.",
   "id": "c6ab1caebff2d748"
  },
  {
   "metadata": {},
   "cell_type": "code",
   "outputs": [],
   "execution_count": null,
   "source": [
    "from semantic_router import Route\n",
    "\n",
    "politics = Route(\n",
    "    name=\"politics\",\n",
    "    utterances=[\n",
    "        \"isn't politics the best thing ever\",\n",
    "        \"why don't you tell me about your political opinions\",\n",
    "        \"don't you just love the president\",\n",
    "        \"don't you just hate the president\",\n",
    "        \"they're going to destroy this country!\",\n",
    "        \"they will save the country!\",\n",
    "    ],\n",
    ")"
   ],
   "id": "1387c6a6b2399cbb"
  },
  {
   "metadata": {},
   "cell_type": "markdown",
   "source": "Let's define another for good measure:",
   "id": "d14c31bb9ba0a2cf"
  },
  {
   "metadata": {},
   "cell_type": "code",
   "outputs": [],
   "execution_count": null,
   "source": [
    "chitchat = Route(\n",
    "    name=\"chitchat\",\n",
    "    utterances=[\n",
    "        \"how's the weather today?\",\n",
    "        \"how are things going?\",\n",
    "        \"lovely weather today\",\n",
    "        \"the weather is horrendous\",\n",
    "        \"let's go to the chippy\",\n",
    "    ],\n",
    ")\n",
    "\n",
    "routes = [politics, chitchat]"
   ],
   "id": "9433a9a4d8420d4a"
  },
  {
   "metadata": {},
   "cell_type": "markdown",
   "source": "Now we initialize our embedding model.",
   "id": "ebb87de5d9181b90"
  },
  {
   "metadata": {},
   "cell_type": "code",
   "outputs": [],
   "execution_count": null,
   "source": [
    "from semantic_router.encoders import GigaChatEncoder\n",
    "\n",
    "auth_data = \"your-auth-data\"\n",
    "scope = \"your-scope\" # optional \"GIGACHAT_API_CORP\" or \"GIGACHAT_API_PERS\"\n",
    "\n",
    "encoder = GigaChatEncoder(auth_data=auth_data, scope=scope)"
   ],
   "id": "954563c1102f8f5d"
  },
  {
   "metadata": {},
   "cell_type": "markdown",
   "source": "Now we define the RouteLayer. When called, the route layer will consume text (a query) and output the category (Route) it belongs to — to initialize a RouteLayer we need our encoder model and a list of routes.",
   "id": "580ba91ad0dce419"
  },
  {
   "metadata": {},
   "cell_type": "code",
   "outputs": [],
   "execution_count": null,
   "source": [
    "from semantic_router.layer import RouteLayer\n",
    "\n",
    "rl = RouteLayer(encoder=encoder, routes=routes)"
   ],
   "id": "7db9e2ea9afdf0ec"
  },
  {
   "metadata": {},
   "cell_type": "markdown",
   "source": "Now we can test it:",
   "id": "6b456a5153ec37e7"
  },
  {
   "metadata": {},
   "cell_type": "code",
   "outputs": [],
   "execution_count": null,
   "source": "rl(\"don't you love politics?\")",
   "id": "c552767d54a45455"
  },
  {
   "metadata": {},
   "cell_type": "code",
   "outputs": [],
   "execution_count": null,
   "source": "rl(\"how's the weather today?\")",
   "id": "b5e95b8cd6b009c3"
  }
 ],
 "metadata": {
  "kernelspec": {
   "display_name": "Python 3",
   "language": "python",
   "name": "python3"
  },
  "language_info": {
   "codemirror_mode": {
    "name": "ipython",
    "version": 2
   },
   "file_extension": ".py",
   "mimetype": "text/x-python",
   "name": "python",
   "nbconvert_exporter": "python",
   "pygments_lexer": "ipython2",
   "version": "2.7.6"
  }
 },
 "nbformat": 4,
 "nbformat_minor": 5
}
