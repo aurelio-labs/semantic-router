{
 "cells": [
  {
   "cell_type": "markdown",
   "metadata": {},
   "source": [
    "## Bound a topic by a 1D or 2D Manifold Projection\n",
    "\n",
    "Here's the main idea:\n",
    "\n",
    "1) A sentence embedding gives you a map or function between the set of tokens (including position) into a fixed point in semantic space.\n",
    "2) The distances in the semantic space can be non linear so we use a manifold projection tool like u-map to project the embedding points down to 1D or 2D.\n",
    "3) If you have a set of examples of different topics they map to different areas in 1D or 2D.\n",
    "4) Fit a projection on a whole host of conversations and topics, check that there is a good separation of the topics in the lower dimension.\n",
    "5) You can use a convex-hull in 2d, a simple bin, or even a probability test to determine if a new sentence falls within a topic or not.\n",
    "6) You can quickly check if the input or output to an LLM is a space, if not guide it to get back on topic"
   ]
  },
  {
   "cell_type": "code",
   "execution_count": 36,
   "metadata": {},
   "outputs": [],
   "source": [
    "from datasets import load_dataset\n",
    "import pandas as pd\n",
    "\n",
    "wiki_topics = load_dataset(\"tarekziade/wikipedia-topics\")\n",
    "\n",
    "df = wiki_topics['test'].to_pandas().iloc[:100]"
   ]
  },
  {
   "cell_type": "code",
   "execution_count": 38,
   "metadata": {},
   "outputs": [],
   "source": [
    "from semantic_router.encoders import FastEmbedEncoder\n",
    "\n",
    "encoder = FastEmbedEncoder(name=\"BAAI/bge-small-en-v1.5\")"
   ]
  },
  {
   "cell_type": "code",
   "execution_count": 39,
   "metadata": {},
   "outputs": [],
   "source": [
    "embedding_list = encoder(df['text'].to_list())"
   ]
  },
  {
   "cell_type": "code",
   "execution_count": 40,
   "metadata": {},
   "outputs": [
    {
     "data": {
      "text/plain": [
       "100"
      ]
     },
     "execution_count": 40,
     "metadata": {},
     "output_type": "execute_result"
    }
   ],
   "source": [
    "len(embedding_list)"
   ]
  },
  {
   "cell_type": "code",
   "execution_count": 41,
   "metadata": {},
   "outputs": [],
   "source": [
    "import umap\n",
    "reducer = umap.UMAP(n_components=1)"
   ]
  },
  {
   "cell_type": "code",
   "execution_count": 42,
   "metadata": {},
   "outputs": [],
   "source": [
    "embedding = reducer.fit_transform(embedding_list)"
   ]
  },
  {
   "cell_type": "code",
   "execution_count": 60,
   "metadata": {},
   "outputs": [],
   "source": [
    "df = df.assign(E=[float(_emb[0].astype(float)) for _emb in embedding])"
   ]
  },
  {
   "cell_type": "code",
   "execution_count": 68,
   "metadata": {},
   "outputs": [],
   "source": [
    "df['categories'] = df['categories'].astype(str)"
   ]
  },
  {
   "cell_type": "code",
   "execution_count": 72,
   "metadata": {},
   "outputs": [
    {
     "data": {
      "text/plain": [
       "array([\"['Ethics']\", \"['Mass_media']\", \"['Entities']\",\n",
       "       \"['Food_and_drink']\", \"['Technology']\", \"['Education']\",\n",
       "       \"['Health']\", \"['Energy']\", \"['Government']\", \"['Knowledge']\",\n",
       "       \"['Information']\", \"['Humanities']\", \"['Religion']\", \"['Nature']\",\n",
       "       \"['Philosophy']\", \"['Economy']\", \"['Time']\", \"['Human_behavior']\",\n",
       "       \"['Engineering']\", \"['Military']\", \"['Law']\", \"['Politics']\",\n",
       "       \"['History']\", \"['Education' 'Academic_disciplines']\",\n",
       "       \"['Society' 'Culture']\", \"['Geography']\", \"['Sports']\",\n",
       "       \"['Language']\", \"['Lists']\", \"['Life']\", \"['Internet']\",\n",
       "       \"['Communication']\", \"['Universe' 'Mathematics']\",\n",
       "       \"['Knowledge' 'Concepts']\", \"['Entertainment']\", \"['Universe']\",\n",
       "       \"['Science']\", \"['People']\"], dtype=object)"
      ]
     },
     "execution_count": 72,
     "metadata": {},
     "output_type": "execute_result"
    }
   ],
   "source": [
    "df['categories'].unique()"
   ]
  },
  {
   "cell_type": "code",
   "execution_count": 87,
   "metadata": {},
   "outputs": [],
   "source": [
    "# Define the list of values to filter\n",
    "value_list = [\"['Religion']\", \"['Technology']\"]\n"
   ]
  },
  {
   "cell_type": "code",
   "execution_count": 88,
   "metadata": {},
   "outputs": [],
   "source": [
    "filtered_df = df[df['categories'].isin(value_list)]"
   ]
  },
  {
   "cell_type": "code",
   "execution_count": 89,
   "metadata": {},
   "outputs": [
    {
     "data": {
      "text/html": [
       "<div>\n",
       "<style scoped>\n",
       "    .dataframe tbody tr th:only-of-type {\n",
       "        vertical-align: middle;\n",
       "    }\n",
       "\n",
       "    .dataframe tbody tr th {\n",
       "        vertical-align: top;\n",
       "    }\n",
       "\n",
       "    .dataframe thead th {\n",
       "        text-align: right;\n",
       "    }\n",
       "</style>\n",
       "<table border=\"1\" class=\"dataframe\">\n",
       "  <thead>\n",
       "    <tr style=\"text-align: right;\">\n",
       "      <th></th>\n",
       "      <th>id</th>\n",
       "      <th>title</th>\n",
       "      <th>summary</th>\n",
       "      <th>text</th>\n",
       "      <th>categories</th>\n",
       "      <th>E</th>\n",
       "    </tr>\n",
       "  </thead>\n",
       "  <tbody>\n",
       "    <tr>\n",
       "      <th>4</th>\n",
       "      <td>2457647</td>\n",
       "      <td>National Computing Centre</td>\n",
       "      <td>The National Computing Centre (NCC) was an ind...</td>\n",
       "      <td>The National Computing Centre (NCC) was an ind...</td>\n",
       "      <td>['Technology']</td>\n",
       "      <td>6.547527</td>\n",
       "    </tr>\n",
       "    <tr>\n",
       "      <th>9</th>\n",
       "      <td>28196618</td>\n",
       "      <td>Margaret Hamilton (software engineer)</td>\n",
       "      <td>Margaret Elaine Hamilton (née Heafield; born A...</td>\n",
       "      <td>Margaret Elaine Hamilton (née Heafield; born A...</td>\n",
       "      <td>['Technology']</td>\n",
       "      <td>6.512669</td>\n",
       "    </tr>\n",
       "    <tr>\n",
       "      <th>15</th>\n",
       "      <td>68219812</td>\n",
       "      <td>St. Mary's Church, Kilkenny</td>\n",
       "      <td>St. Mary's Church was a church in Kilkenny, Ir...</td>\n",
       "      <td>St. Mary's Church was a church in Kilkenny, Ir...</td>\n",
       "      <td>['Religion']</td>\n",
       "      <td>1.570939</td>\n",
       "    </tr>\n",
       "    <tr>\n",
       "      <th>20</th>\n",
       "      <td>46773775</td>\n",
       "      <td>St. Wenceslas Church (Zderaz)</td>\n",
       "      <td>St. Wenceslas Church at Zderaz (Czech: Kostel ...</td>\n",
       "      <td>St. Wenceslas Church at Zderaz (Czech: Kostel ...</td>\n",
       "      <td>['Religion']</td>\n",
       "      <td>1.720816</td>\n",
       "    </tr>\n",
       "    <tr>\n",
       "      <th>25</th>\n",
       "      <td>1127001</td>\n",
       "      <td>PC PowerPlay</td>\n",
       "      <td>PC PowerPlay (PCPP) is Australia's only dedica...</td>\n",
       "      <td>PC PowerPlay (PCPP) is Australia's only dedica...</td>\n",
       "      <td>['Technology']</td>\n",
       "      <td>4.054253</td>\n",
       "    </tr>\n",
       "    <tr>\n",
       "      <th>31</th>\n",
       "      <td>49675317</td>\n",
       "      <td>Murray Shanahan</td>\n",
       "      <td>Murray Patrick Shanahan is a professor of Cogn...</td>\n",
       "      <td>Murray Patrick Shanahan is a professor of Cogn...</td>\n",
       "      <td>['Technology']</td>\n",
       "      <td>6.417150</td>\n",
       "    </tr>\n",
       "    <tr>\n",
       "      <th>60</th>\n",
       "      <td>40642665</td>\n",
       "      <td>St. Augustine's Church, Copenhagen</td>\n",
       "      <td>St. Augustine's Church is a Roman-Catholic chu...</td>\n",
       "      <td>St. Augustine's Church is a Roman-Catholic chu...</td>\n",
       "      <td>['Religion']</td>\n",
       "      <td>1.896111</td>\n",
       "    </tr>\n",
       "    <tr>\n",
       "      <th>66</th>\n",
       "      <td>52519539</td>\n",
       "      <td>Samantha John</td>\n",
       "      <td>Samantha John (born 1985 or 1986 (age 37–38)) ...</td>\n",
       "      <td>Samantha John (born 1985 or 1986 (age 37–38)) ...</td>\n",
       "      <td>['Technology']</td>\n",
       "      <td>6.268058</td>\n",
       "    </tr>\n",
       "    <tr>\n",
       "      <th>80</th>\n",
       "      <td>55588627</td>\n",
       "      <td>May (painting)</td>\n",
       "      <td>The Mays were a series of paintings in 17th an...</td>\n",
       "      <td>The Mays were a series of paintings in 17th an...</td>\n",
       "      <td>['Religion']</td>\n",
       "      <td>2.094458</td>\n",
       "    </tr>\n",
       "  </tbody>\n",
       "</table>\n",
       "</div>"
      ],
      "text/plain": [
       "          id                                  title  \\\n",
       "4    2457647              National Computing Centre   \n",
       "9   28196618  Margaret Hamilton (software engineer)   \n",
       "15  68219812            St. Mary's Church, Kilkenny   \n",
       "20  46773775          St. Wenceslas Church (Zderaz)   \n",
       "25   1127001                           PC PowerPlay   \n",
       "31  49675317                        Murray Shanahan   \n",
       "60  40642665     St. Augustine's Church, Copenhagen   \n",
       "66  52519539                          Samantha John   \n",
       "80  55588627                         May (painting)   \n",
       "\n",
       "                                              summary  \\\n",
       "4   The National Computing Centre (NCC) was an ind...   \n",
       "9   Margaret Elaine Hamilton (née Heafield; born A...   \n",
       "15  St. Mary's Church was a church in Kilkenny, Ir...   \n",
       "20  St. Wenceslas Church at Zderaz (Czech: Kostel ...   \n",
       "25  PC PowerPlay (PCPP) is Australia's only dedica...   \n",
       "31  Murray Patrick Shanahan is a professor of Cogn...   \n",
       "60  St. Augustine's Church is a Roman-Catholic chu...   \n",
       "66  Samantha John (born 1985 or 1986 (age 37–38)) ...   \n",
       "80  The Mays were a series of paintings in 17th an...   \n",
       "\n",
       "                                                 text      categories  \\\n",
       "4   The National Computing Centre (NCC) was an ind...  ['Technology']   \n",
       "9   Margaret Elaine Hamilton (née Heafield; born A...  ['Technology']   \n",
       "15  St. Mary's Church was a church in Kilkenny, Ir...    ['Religion']   \n",
       "20  St. Wenceslas Church at Zderaz (Czech: Kostel ...    ['Religion']   \n",
       "25  PC PowerPlay (PCPP) is Australia's only dedica...  ['Technology']   \n",
       "31  Murray Patrick Shanahan is a professor of Cogn...  ['Technology']   \n",
       "60  St. Augustine's Church is a Roman-Catholic chu...    ['Religion']   \n",
       "66  Samantha John (born 1985 or 1986 (age 37–38)) ...  ['Technology']   \n",
       "80  The Mays were a series of paintings in 17th an...    ['Religion']   \n",
       "\n",
       "           E  \n",
       "4   6.547527  \n",
       "9   6.512669  \n",
       "15  1.570939  \n",
       "20  1.720816  \n",
       "25  4.054253  \n",
       "31  6.417150  \n",
       "60  1.896111  \n",
       "66  6.268058  \n",
       "80  2.094458  "
      ]
     },
     "execution_count": 89,
     "metadata": {},
     "output_type": "execute_result"
    }
   ],
   "source": [
    "filtered_df"
   ]
  },
  {
   "cell_type": "code",
   "execution_count": 90,
   "metadata": {},
   "outputs": [
    {
     "data": {
      "image/png": "[encoded data removed]",
      "text/plain": [
       "<Figure size 640x480 with 1 Axes>"
      ]
     },
     "metadata": {},
     "output_type": "display_data"
    }
   ],
   "source": [
    "import seaborn as sns\n",
    "import matplotlib.pyplot as plt\n",
    "\n",
    "sns.kdeplot(data=filtered_df, x='E', hue = 'categories', fill=True, common_norm=False)\n",
    "plt.show()"
   ]
  },
  {
   "cell_type": "code",
   "execution_count": null,
   "metadata": {},
   "outputs": [],
   "source": []
  }
 ],
 "metadata": {
  "kernelspec": {
   "display_name": "base",
   "language": "python",
   "name": "python3"
  },
  "language_info": {
   "codemirror_mode": {
    "name": "ipython",
    "version": 3
   },
   "file_extension": ".py",
   "mimetype": "text/x-python",
   "name": "python",
   "nbconvert_exporter": "python",
   "pygments_lexer": "ipython3",
   "version": "3.10.10"
  }
 },
 "nbformat": 4,
 "nbformat_minor": 2
}
