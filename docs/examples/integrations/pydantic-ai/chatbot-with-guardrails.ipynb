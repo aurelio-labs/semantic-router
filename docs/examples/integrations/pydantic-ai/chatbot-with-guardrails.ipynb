{
 "cells": [
  {
   "cell_type": "markdown",
   "metadata": {},
   "source": [
    "[![Open In Colab](https://colab.research.google.com/assets/colab-badge.svg)](https://colab.research.google.com/github/aurelio-labs/semantic-router/blob/main/docs/integrations/pydantic-ai/chatbot-with-guardrails.ipynb) [![Open nbviewer](https://raw.githubusercontent.com/pinecone-io/examples/master/assets/nbviewer-shield.svg)](https://nbviewer.org/github/aurelio-labs/semantic-router/blob/main/docs/integrations/pydantic-ai/chatbot-with-guardrails.ipynb)"
   ]
  },
  {
   "cell_type": "markdown",
   "metadata": {},
   "source": [
    "## Sparse Encoder"
   ]
  },
  {
   "cell_type": "markdown",
   "metadata": {},
   "source": [
    "### Install Prerequisites"
   ]
  },
  {
   "cell_type": "code",
   "execution_count": 1,
   "metadata": {},
   "outputs": [],
   "source": [
    "#!pip install -qU \\\n",
    "#    semantic-router>=0.1.6 \\\n",
    "#    pydantic-ai>=0.0.42"
   ]
  },
  {
   "cell_type": "markdown",
   "metadata": {},
   "source": [
    "### Creating Hybrid Router for Sparse Encoder Detection"
   ]
  },
  {
   "cell_type": "markdown",
   "metadata": {},
   "source": [
    "To begin we first need to import the `Route` class from the `semantic_router` package.\n",
    "\n",
    "Then we can define the routes that we want to use in our semantic router. For this example we will use routes for BYD, Tesla, Polestar, and Rivian. Giving each route a name and a list of utterances that we want to use to represent the route.\n"
   ]
  },
  {
   "cell_type": "code",
   "execution_count": 2,
   "metadata": {},
   "outputs": [
    {
     "name": "stderr",
     "output_type": "stream",
     "text": [
      "/Users/jamesbriggs/Documents/aurelio/semantic-router/.venv/lib/python3.13/site-packages/tqdm/auto.py:21: TqdmWarning: IProgress not found. Please update jupyter and ipywidgets. See https://ipywidgets.readthedocs.io/en/stable/user_install.html\n",
      "  from .autonotebook import tqdm as notebook_tqdm\n"
     ]
    }
   ],
   "source": [
    "from semantic_router import Route\n",
    "\n",
    "# Route for BYD-related queries (allowed)\n",
    "byd = Route(\n",
    "    name=\"byd\",\n",
    "    utterances=[\n",
    "        \"Tell me about the BYD Seal.\",\n",
    "        \"What is the battery capacity of the BYD Dolphin?\",\n",
    "        \"How does BYD's Blade Battery work?\",\n",
    "        \"Is the BYD Atto 3 a good EV?\",\n",
    "        \"Can I sell my BYD?\",\n",
    "        \"How much is my BYD worth?\",\n",
    "        \"What is the resale value of my BYD?\",\n",
    "        \"How much can I get for my BYD?\",\n",
    "        \"How much can I sell my BYD for?\",\n",
    "    ],\n",
    ")\n",
    "\n",
    "# Route for Tesla-related queries (blocked or redirected)\n",
    "tesla = Route(\n",
    "    name=\"tesla\",\n",
    "    utterances=[\n",
    "        \"Is Tesla better than BYD?\",\n",
    "        \"Tell me about the Tesla Model 3.\",\n",
    "        \"How does Tesla's autopilot compare to other EVs?\",\n",
    "        \"What's new in the Tesla Cybertruck?\",\n",
    "        \"Can I sell my Tesla?\",\n",
    "        \"How much is my Tesla worth?\",\n",
    "        \"What is the resale value of my Tesla?\",\n",
    "        \"How much can I get for my Tesla?\",\n",
    "        \"How much can I sell my Tesla for?\",\n",
    "    ],\n",
    ")\n",
    "\n",
    "# Route for Polestar-related queries (blocked or redirected)\n",
    "polestar = Route(\n",
    "    name=\"polestar\",\n",
    "    utterances=[\n",
    "        \"What's the range of the Polestar 2?\",\n",
    "        \"Is Polestar a good alternative to other EVs?\",\n",
    "        \"How does Polestar compare to other EVs?\",\n",
    "        \"Can I sell my Polestar?\",\n",
    "        \"How much is my Polestar worth?\",\n",
    "        \"What is the resale value of my Polestar?\",\n",
    "        \"How much can I get for my Polestar?\",\n",
    "        \"How much can I sell my Polestar for?\",\n",
    "    ],\n",
    ")\n",
    "\n",
    "# Route for Rivian-related queries (blocked or redirected)\n",
    "rivian = Route(\n",
    "    name=\"rivian\",\n",
    "    utterances=[\n",
    "        \"Tell me about the Rivian R1T.\",\n",
    "        \"How does Rivian's off-road capability compare to other EVs?\",\n",
    "        \"Is Rivian's charging network better than other EVs?\",\n",
    "        \"Can I sell my Rivian?\",\n",
    "        \"How much is my Rivian worth?\",\n",
    "        \"What is the resale value of my Rivian?\",\n",
    "        \"How much can I get for my Rivian?\",\n",
    "        \"How much can I sell my Rivian for?\",\n",
    "    ],\n",
    ")\n",
    "\n",
    "# Combine all routes\n",
    "routes = [byd, tesla, polestar, rivian]"
   ]
  },
  {
   "cell_type": "markdown",
   "metadata": {},
   "source": [
    "Relying solely on dense embedding models to differentiate between the meaning of these queries is _very_ difficult due to the nature of semantic space resulting in queries like `\"can I sell my Tesla?\"` and `\"can I sell my Polestar?\"` being incredibly semantically similar. We can test this with OpenAI's dense embedding model.\n",
    "\n",
    "We will need an [OpenAI API key](https://platform.openai.com/api-keys) for this."
   ]
  },
  {
   "cell_type": "code",
   "execution_count": 1,
   "metadata": {},
   "outputs": [
    {
     "name": "stderr",
     "output_type": "stream",
     "text": [
      "/Users/jamesbriggs/Documents/aurelio/semantic-router/.venv/lib/python3.13/site-packages/tqdm/auto.py:21: TqdmWarning: IProgress not found. Please update jupyter and ipywidgets. See https://ipywidgets.readthedocs.io/en/stable/user_install.html\n",
      "  from .autonotebook import tqdm as notebook_tqdm\n"
     ]
    }
   ],
   "source": [
    "import os\n",
    "from getpass import getpass\n",
    "from semantic_router.encoders import OpenAIEncoder\n",
    "\n",
    "os.environ[\"OPENAI_API_KEY\"] = os.getenv(\"OPENAI_API_KEY\") or getpass(\n",
    "    \"Enter your OpenAI API key: \"\n",
    ")\n",
    "# dense encoder for semantic meaning\n",
    "encoder = OpenAIEncoder(name=\"text-embedding-3-small\", score_threshold=0.3)"
   ]
  },
  {
   "cell_type": "markdown",
   "metadata": {},
   "source": [
    "Next let's compare the similarity between some vectors:"
   ]
  },
  {
   "cell_type": "code",
   "execution_count": 3,
   "metadata": {},
   "outputs": [
    {
     "name": "stderr",
     "output_type": "stream",
     "text": [
      "2025-03-25 11:45:11 - httpx - INFO - _client.py:1013 - _send_single_request() - HTTP Request: POST https://api.openai.com/v1/embeddings \"HTTP/1.1 200 OK\"\n"
     ]
    },
    {
     "data": {
      "text/plain": [
       "array([[1.        , 0.65354249, 0.67416076, 0.69256556],\n",
       "       [0.65354249, 1.        , 0.57430814, 0.59140332],\n",
       "       [0.67416076, 0.57430814, 1.        , 0.60840109],\n",
       "       [0.69256556, 0.59140332, 0.60840109, 1.        ]])"
      ]
     },
     "execution_count": 3,
     "metadata": {},
     "output_type": "execute_result"
    }
   ],
   "source": [
    "import numpy as np\n",
    "from numpy.linalg import norm\n",
    "\n",
    "vectors = encoder(\n",
    "    docs=[\n",
    "        \"can I sell my Tesla?\",\n",
    "        \"can I sell my Polestar?\",\n",
    "        \"can I sell my BYD?\",\n",
    "        \"can I sell my Rivian?\",\n",
    "    ]\n",
    ")\n",
    "\n",
    "# normalize our vectors\n",
    "vector_norms = norm(vectors, axis=1, keepdims=True)\n",
    "normalized_vectors = vectors / vector_norms\n",
    "\n",
    "# calculate the dot product similarity between the vectors\n",
    "dot_products = np.dot(normalized_vectors, normalized_vectors.T)\n",
    "dot_products"
   ]
  },
  {
   "cell_type": "markdown",
   "metadata": {},
   "source": [
    "Now let's compare this to similarities between utterances of a single route:"
   ]
  },
  {
   "cell_type": "code",
   "execution_count": 10,
   "metadata": {},
   "outputs": [
    {
     "name": "stderr",
     "output_type": "stream",
     "text": [
      "2025-03-25 11:50:27 - httpx - INFO - _client.py:1013 - _send_single_request() - HTTP Request: POST https://api.openai.com/v1/embeddings \"HTTP/1.1 200 OK\"\n"
     ]
    },
    {
     "data": {
      "text/plain": [
       "array([[1.        , 0.52624727, 0.48299403, 0.57280113, 0.55299787],\n",
       "       [0.52624727, 1.        , 0.5188066 , 0.56618672, 0.55230486],\n",
       "       [0.48299403, 0.5188066 , 1.        , 0.60667738, 0.58912712],\n",
       "       [0.57280113, 0.56618672, 0.60667738, 1.        , 0.8838391 ],\n",
       "       [0.55299787, 0.55230486, 0.58912712, 0.8838391 , 1.        ]])"
      ]
     },
     "execution_count": 10,
     "metadata": {},
     "output_type": "execute_result"
    }
   ],
   "source": [
    "vectors = encoder(\n",
    "    docs=[\n",
    "        \"Tell me about the BYD Seal.\",\n",
    "        \"How does BYD's Blade Battery work?\",\n",
    "        \"Is the BYD Atto 3 a good EV?\",\n",
    "        \"Can I sell my BYD?\",\n",
    "        \"How much can I sell my BYD for?\",\n",
    "    ]\n",
    ")\n",
    "\n",
    "# normalize our vectors\n",
    "vector_norms = norm(vectors, axis=1, keepdims=True)\n",
    "normalized_vectors = vectors / vector_norms\n",
    "\n",
    "# calculate the dot product similarity between the vectors\n",
    "dot_products = np.dot(normalized_vectors, normalized_vectors.T)\n",
    "dot_products"
   ]
  },
  {
   "cell_type": "markdown",
   "metadata": {},
   "source": [
    "In some cases here the utterances between different routes share higher similarity than utterances within the same route. That is because dense encoders excel at identifying the \"generic\" semantic meaning between phrases, but there are many cases (like this one) where we also need to give some importance to the matching of similar terms, such as \"BYD\" or \"Tesla\".\n",
    "\n",
    "Traditional sparse encoders perform very well with _term matching_, and by merging both dense and sparse methods to create a _hybrid_ approach we can make the best of both worlds — scoring both on semantic meaning and term matching. Semantic router supports this via the `HybridRouter`. To use the hybrid methods we will first need to initialize a sparse encoder. We would typically need to \"fit\" (ie train) sparse encoders on our dataset, but we can use the pretrained `AurelioSparseEncoder` instead. For that we need an [API key](https://platform.aurelio.ai/settings/api-keys)."
   ]
  },
  {
   "cell_type": "code",
   "execution_count": 2,
   "metadata": {},
   "outputs": [],
   "source": [
    "from semantic_router.encoders.aurelio import AurelioSparseEncoder\n",
    "\n",
    "os.environ[\"AURELIO_API_KEY\"] = os.getenv(\"AURELIO_API_KEY\") or getpass(\n",
    "    \"Enter your Aurelio API key: \"\n",
    ")\n",
    "# sparse encoder for term matching\n",
    "sparse_encoder = AurelioSparseEncoder(name=\"bm25\")"
   ]
  },
  {
   "cell_type": "markdown",
   "metadata": {},
   "source": [
    "Now we have all the components needed to initialize our `HybridRouter`. We provide the `HybridRouter` with a dense `encoder`, `sparse_encoder`, our predefined `routes`, and we also set `auto_sync` to `\"local\"`:"
   ]
  },
  {
   "cell_type": "code",
   "execution_count": 4,
   "metadata": {},
   "outputs": [
    {
     "name": "stderr",
     "output_type": "stream",
     "text": [
      "2025-03-21 15:12:39 - semantic_router.utils.logger - WARNING - hybrid.py:54 - __init__() - No index provided. Using default HybridLocalIndex.\n",
      "2025-03-21 15:12:40 - httpx - INFO - _client.py:1025 - _send_single_request() - HTTP Request: POST https://api.openai.com/v1/embeddings \"HTTP/1.1 200 OK\"\n",
      "2025-03-21 15:12:42 - httpx - INFO - _client.py:1025 - _send_single_request() - HTTP Request: POST https://api.openai.com/v1/embeddings \"HTTP/1.1 200 OK\"\n",
      "2025-03-21 15:12:43 - semantic_router.utils.logger - WARNING - hybrid_local.py:47 - add() - Function schemas are not supported for HybridLocalIndex.\n",
      "2025-03-21 15:12:43 - semantic_router.utils.logger - WARNING - hybrid_local.py:49 - add() - Metadata is not supported for HybridLocalIndex.\n",
      "2025-03-21 15:12:43 - semantic_router.utils.logger - WARNING - hybrid_local.py:210 - _write_config() - No config is written for HybridLocalIndex.\n"
     ]
    }
   ],
   "source": [
    "from semantic_router.routers import HybridRouter\n",
    "\n",
    "router = HybridRouter(\n",
    "    encoder=encoder, sparse_encoder=sparse_encoder, routes=routes, auto_sync=\"local\"\n",
    ")"
   ]
  },
  {
   "cell_type": "markdown",
   "metadata": {},
   "source": [
    "To check the current route thresholds we can use the `get_thresholds` method which will return a dictionary of route names and their corresponding thresholds values in a float."
   ]
  },
  {
   "cell_type": "code",
   "execution_count": 6,
   "metadata": {},
   "outputs": [
    {
     "name": "stdout",
     "output_type": "stream",
     "text": [
      "Default route thresholds: {'byd': 0.09, 'tesla': 0.09, 'polestar': 0.09, 'rivian': 0.09}\n"
     ]
    }
   ],
   "source": [
    "route_thresholds = router.get_thresholds()\n",
    "print(\"Default route thresholds:\", route_thresholds)"
   ]
  },
  {
   "cell_type": "markdown",
   "metadata": {},
   "source": [
    "We can test our router already by passing in a list of utterances and seeing which route each utterance is routed to."
   ]
  },
  {
   "cell_type": "code",
   "execution_count": 9,
   "metadata": {},
   "outputs": [
    {
     "name": "stderr",
     "output_type": "stream",
     "text": [
      "2025-03-21 15:12:43 - httpx - INFO - _client.py:1025 - _send_single_request() - HTTP Request: POST https://api.openai.com/v1/embeddings \"HTTP/1.1 200 OK\"\n"
     ]
    },
    {
     "name": "stdout",
     "output_type": "stream",
     "text": [
      "Tell me about BYD's Blade Battery. -> byd\n"
     ]
    },
    {
     "name": "stderr",
     "output_type": "stream",
     "text": [
      "2025-03-21 15:12:44 - httpx - INFO - _client.py:1025 - _send_single_request() - HTTP Request: POST https://api.openai.com/v1/embeddings \"HTTP/1.1 200 OK\"\n"
     ]
    },
    {
     "name": "stdout",
     "output_type": "stream",
     "text": [
      "Does the Tesla Model 3 have better range? -> tesla\n"
     ]
    },
    {
     "name": "stderr",
     "output_type": "stream",
     "text": [
      "2025-03-21 15:12:45 - httpx - INFO - _client.py:1025 - _send_single_request() - HTTP Request: POST https://api.openai.com/v1/embeddings \"HTTP/1.1 200 OK\"\n"
     ]
    },
    {
     "name": "stdout",
     "output_type": "stream",
     "text": [
      "What are the key features of the Polestar 2? -> polestar\n"
     ]
    },
    {
     "name": "stderr",
     "output_type": "stream",
     "text": [
      "2025-03-21 15:12:49 - httpx - INFO - _client.py:1025 - _send_single_request() - HTTP Request: POST https://api.openai.com/v1/embeddings \"HTTP/1.1 200 OK\"\n"
     ]
    },
    {
     "name": "stdout",
     "output_type": "stream",
     "text": [
      "Is Rivian's R1T better for off-roading? -> rivian\n"
     ]
    }
   ],
   "source": [
    "for utterance in [\n",
    "    \"Tell me about BYD's Blade Battery.\",\n",
    "    \"Does the Tesla Model 3 have better range?\",\n",
    "    \"What are the key features of the Polestar 2?\",\n",
    "    \"Is Rivian's R1T better for off-roading?\",\n",
    "]:\n",
    "    print(f\"{utterance} -> {router(utterance).name}\")"
   ]
  },
  {
   "cell_type": "markdown",
   "metadata": {},
   "source": [
    "The `HybridRouter` is already performing reasonably well. We can use the `evaluate` method to measure the router's accuracy across a larger set of test data."
   ]
  },
  {
   "cell_type": "code",
   "execution_count": 10,
   "metadata": {},
   "outputs": [
    {
     "name": "stderr",
     "output_type": "stream",
     "text": [
      "Generating embeddings:   0%|          | 0/1 [00:00<?, ?it/s]2025-03-21 15:12:51 - httpx - INFO - _client.py:1025 - _send_single_request() - HTTP Request: POST https://api.openai.com/v1/embeddings \"HTTP/1.1 200 OK\"\n",
      "Generating embeddings: 100%|██████████| 1/1 [00:01<00:00,  1.14s/it]"
     ]
    },
    {
     "name": "stdout",
     "output_type": "stream",
     "text": [
      "Accuracy: 100.00%\n"
     ]
    },
    {
     "name": "stderr",
     "output_type": "stream",
     "text": [
      "\n"
     ]
    }
   ],
   "source": [
    "test_data = [\n",
    "    (\"Tell me about BYD's Blade Battery.\", \"byd\"),\n",
    "    (\"Does the Tesla Model 3 have better range?\", \"tesla\"),\n",
    "    (\"What are the key features of the Polestar 2?\", \"polestar\"),\n",
    "    (\"Is Rivian's R1T better for off-roading?\", \"rivian\"),\n",
    "]\n",
    "\n",
    "# unpack the test data\n",
    "X, y = zip(*test_data)\n",
    "\n",
    "# evaluate using the default thresholds\n",
    "accuracy = router.evaluate(X=X, y=y)\n",
    "print(f\"Accuracy: {accuracy * 100:.2f}%\")"
   ]
  },
  {
   "cell_type": "markdown",
   "metadata": {},
   "source": [
    "From this small test set it seems like we have perfect performance, but a small dataset like this is _not_ enough to give us any reasonable confidence in our router's performance. Instead we should gather as large a dataset covering as many queries that we might expect users to try. It's also important to include routes that we would expect to _not_ trigger any routes, we mark these as `None` utterances."
   ]
  },
  {
   "cell_type": "code",
   "execution_count": 11,
   "metadata": {},
   "outputs": [],
   "source": [
    "test_data = [\n",
    "    # BYD-related queries\n",
    "    (\"Tell me about the BYD Seal.\", \"byd\"),\n",
    "    (\"What is the battery capacity of the BYD Dolphin?\", \"byd\"),\n",
    "    (\"How does BYD's Blade Battery work?\", \"byd\"),\n",
    "    (\"Is the BYD Atto 3 a good EV?\", \"byd\"),\n",
    "    (\"What's the range of the BYD Tang?\", \"byd\"),\n",
    "    (\"Does BYD offer fast-charging stations?\", \"byd\"),\n",
    "    (\"How is the BYD Han different from the Seal?\", \"byd\"),\n",
    "    (\"Is BYD the largest EV manufacturer in China?\", \"byd\"),\n",
    "    (\"What is the top speed of the BYD Seal?\", \"byd\"),\n",
    "    (\"Compare the BYD Dolphin and the BYD Atto 3.\", \"byd\"),\n",
    "    (\"How does BYD's battery technology compare to Tesla's?\", \"byd\"),\n",
    "    (\"What makes the BYD Blade Battery safer?\", \"byd\"),\n",
    "    (\"Does BYD have plans to expand to Europe?\", \"byd\"),\n",
    "    (\"How efficient is the BYD Tang in terms of range?\", \"byd\"),\n",
    "    (\"What are the latest BYD electric vehicle models?\", \"byd\"),\n",
    "    (\"How does the BYD Han compare to the Tesla Model S?\", \"byd\"),\n",
    "    (\"What is the warranty on BYD EV batteries?\", \"byd\"),\n",
    "    (\"Which BYD model is the best for long-distance driving?\", \"byd\"),\n",
    "    (\"Does BYD manufacture its own battery cells?\", \"byd\"),\n",
    "    # Tesla-related queries\n",
    "    (\"Is Tesla better than BYD?\", \"tesla\"),\n",
    "    (\"Tell me about the Tesla Model 3.\", \"tesla\"),\n",
    "    (\"How does Tesla's autopilot compare to other EVs?\", \"tesla\"),\n",
    "    (\"What's new in the Tesla Cybertruck?\", \"tesla\"),\n",
    "    (\"What is Tesla's Full Self-Driving feature?\", \"tesla\"),\n",
    "    (\"How long does it take to charge a Tesla?\", \"tesla\"),\n",
    "    (\"Tell me about the Tesla Roadster.\", \"tesla\"),\n",
    "    (\"How much does a Tesla Model S cost?\", \"tesla\"),\n",
    "    (\"Which Tesla model has the longest range?\", \"tesla\"),\n",
    "    (\"What are the main differences between the Tesla Model S and Model 3?\", \"tesla\"),\n",
    "    (\"How safe is Tesla's Autopilot?\", \"tesla\"),\n",
    "    (\"Does Tesla use LFP batteries?\", \"tesla\"),\n",
    "    (\"What is the Tesla Supercharger network?\", \"tesla\"),\n",
    "    (\"How does Tesla's Plaid mode work?\", \"tesla\"),\n",
    "    (\"Which Tesla is best for off-roading?\", \"tesla\"),\n",
    "    # Polestar-related queries\n",
    "    (\"What's the range of the Polestar 2?\", \"polestar\"),\n",
    "    (\"Is Polestar a good alternative?\", \"polestar\"),\n",
    "    (\"How does Polestar compare to Tesla?\", \"polestar\"),\n",
    "    (\"Tell me about the Polestar 3.\", \"polestar\"),\n",
    "    (\"Is the Polestar 2 fully electric?\", \"polestar\"),\n",
    "    (\"What is Polestar's performance like?\", \"polestar\"),\n",
    "    (\"Does Polestar offer any performance upgrades?\", \"polestar\"),\n",
    "    (\"How is Polestar's autonomous driving technology?\", \"polestar\"),\n",
    "    (\"What is the battery capacity of the Polestar 2?\", \"polestar\"),\n",
    "    (\"How does Polestar differ from Volvo?\", \"polestar\"),\n",
    "    (\"Is Polestar planning a fully electric SUV?\", \"polestar\"),\n",
    "    (\"How does the Polestar 4 compare to other EVs?\", \"polestar\"),\n",
    "    (\"What are Polestar's sustainability goals?\", \"polestar\"),\n",
    "    (\"How much does a Polestar 3 cost?\", \"polestar\"),\n",
    "    (\"Does Polestar have its own fast-charging network?\", \"polestar\"),\n",
    "    # Rivian-related queries\n",
    "    (\"Tell me about the Rivian R1T.\", \"rivian\"),\n",
    "    (\"How does Rivian's off-road capability compare to other EVs?\", \"rivian\"),\n",
    "    (\"Is Rivian's charging network better than other EVs?\", \"rivian\"),\n",
    "    (\"What is the range of the Rivian R1S?\", \"rivian\"),\n",
    "    (\"How much does a Rivian R1T cost?\", \"rivian\"),\n",
    "    (\"Tell me about Rivian's plans for new EVs.\", \"rivian\"),\n",
    "    (\"How does Rivian's technology compare to other EVs?\", \"rivian\"),\n",
    "    (\"What are the best off-road features of the Rivian R1T?\", \"rivian\"),\n",
    "    (\"What's the towing capacity of the Rivian R1T?\", \"rivian\"),\n",
    "    (\"How does the Rivian R1S differ from the R1T?\", \"rivian\"),\n",
    "    (\"What's special about Rivian's adventure network?\", \"rivian\"),\n",
    "    (\"How much does it cost to charge a Rivian?\", \"rivian\"),\n",
    "    (\"Does Rivian have a lease program?\", \"rivian\"),\n",
    "    (\"What are Rivian's future expansion plans?\", \"rivian\"),\n",
    "    (\"How long does it take to charge a Rivian at home?\", \"rivian\"),\n",
    "    # None category (general knowledge)\n",
    "    (\"What is the capital of France?\", None),\n",
    "    (\"How many people live in the US?\", None),\n",
    "    (\"When is the best time to visit Bali?\", None),\n",
    "    (\"How do I learn a language?\", None),\n",
    "    (\"Tell me an interesting fact.\", None),\n",
    "    (\"What is the best programming language?\", None),\n",
    "    (\"I'm interested in learning about llama 2.\", None),\n",
    "    (\"What is the capital of the moon?\", None),\n",
    "    (\"Who was the first person to walk on the moon?\", None),\n",
    "    (\"What's the best way to cook a steak?\", None),\n",
    "    (\"How do I start a vegetable garden?\", None),\n",
    "    (\"What's the most popular dog breed?\", None),\n",
    "    (\"Tell me about the history of the Roman Empire.\", None),\n",
    "    (\"How do I improve my photography skills?\", None),\n",
    "    (\"What are some good book recommendations?\", None),\n",
    "    (\"How does the stock market work?\", None),\n",
    "    (\"What's the best way to stay fit?\", None),\n",
    "    (\"What's the weather like in London today?\", None),\n",
    "    (\"Who won the last FIFA World Cup?\", None),\n",
    "    (\"What's the difference between a crocodile and an alligator?\", None),\n",
    "    (\"Tell me about the origins of jazz music.\", None),\n",
    "    (\"What's the fastest animal on land?\", None),\n",
    "    (\"How does Bitcoin mining work?\", None),\n",
    "    (\"What are the symptoms of the flu?\", None),\n",
    "    (\"How do I start a YouTube channel?\", None),\n",
    "    (\"What's the best travel destination for solo travelers?\", None),\n",
    "    (\"Who invented the light bulb?\", None),\n",
    "    (\"What are the rules of chess?\", None),\n",
    "    (\"Tell me about ancient Egyptian mythology.\", None),\n",
    "    (\"How do I train my dog to sit?\", None),\n",
    "    (\"What's the difference between espresso and regular coffee?\", None),\n",
    "    (\"What's a good beginner-friendly programming language?\", None),\n",
    "    (\"What are some good stretching exercises?\", None),\n",
    "    (\"How do I bake a chocolate cake?\", None),\n",
    "    (\"What's the best way to save money?\", None),\n",
    "    (\"How do airplanes stay in the air?\", None),\n",
    "    (\"What are the benefits of meditation?\", None),\n",
    "    (\"How do I learn basic Spanish?\", None),\n",
    "    (\"What's the best way to pack for a trip?\", None),\n",
    "    (\"What's the most common phobia?\", None),\n",
    "    (\"How do I take care of a bonsai tree?\", None),\n",
    "    (\"What's the best way to clean a laptop keyboard?\", None),\n",
    "    (\"Tell me about the Great Wall of China.\", None),\n",
    "    (\"What's the best way to learn to swim?\", None),\n",
    "    (\"How does WiFi work?\", None),\n",
    "    (\"What's the healthiest type of bread?\", None),\n",
    "    (\"What's the origin of the word 'quarantine'?\", None),\n",
    "    (\"How do I find a good apartment?\", None),\n",
    "    (\"What are some good mindfulness techniques?\", None),\n",
    "    (\"How do I set up a home theater system?\", None),\n",
    "]"
   ]
  },
  {
   "cell_type": "markdown",
   "metadata": {},
   "source": [
    "Using the new test data we can also evaluate the router with a higher degree of accuracy due to the larger dataset."
   ]
  },
  {
   "cell_type": "code",
   "execution_count": 12,
   "metadata": {},
   "outputs": [
    {
     "name": "stdout",
     "output_type": "stream",
     "text": [
      "['Tell me about the BYD Seal.', 'What is the battery capacity of the BYD Dolphin?', \"How does BYD's Blade Battery work?\", 'Is the BYD Atto 3 a good EV?', 'What’s the range of the BYD Tang?', 'Does BYD offer fast-charging stations?', 'How is the BYD Han different from the Seal?', 'Is BYD the largest EV manufacturer in China?', 'What is the top speed of the BYD Seal?', 'Compare the BYD Dolphin and the BYD Atto 3.', 'How does BYD’s battery technology compare to Tesla’s?', 'What makes the BYD Blade Battery safer?', 'Does BYD have plans to expand to Europe?', 'How efficient is the BYD Tang in terms of range?', 'What are the latest BYD electric vehicle models?', 'How does the BYD Han compare to the Tesla Model S?', 'What is the warranty on BYD EV batteries?', 'Which BYD model is the best for long-distance driving?', 'Does BYD manufacture its own battery cells?', 'Is Tesla better than BYD?', 'Tell me about the Tesla Model 3.', 'How does Tesla’s autopilot compare to other EVs?', 'What’s new in the Tesla Cybertruck?', 'What is Tesla’s Full Self-Driving feature?', 'How long does it take to charge a Tesla?', 'Tell me about the Tesla Roadster.', 'How much does a Tesla Model S cost?', 'Which Tesla model has the longest range?', 'What are the main differences between the Tesla Model S and Model 3?', 'How safe is Tesla’s Autopilot?', 'Does Tesla use LFP batteries?', 'What is the Tesla Supercharger network?', 'How does Tesla’s Plaid mode work?', 'Which Tesla is best for off-roading?', 'What’s the range of the Polestar 2?', 'Is Polestar a good alternative?', 'How does Polestar compare to Tesla?', 'Tell me about the Polestar 3.', 'Is the Polestar 2 fully electric?', 'What is Polestar’s performance like?', 'Does Polestar offer any performance upgrades?', \"How is Polestar's autonomous driving technology?\", 'What is the battery capacity of the Polestar 2?', 'How does Polestar differ from Volvo?', 'Is Polestar planning a fully electric SUV?', 'How does the Polestar 4 compare to other EVs?', 'What are Polestar’s sustainability goals?', 'How much does a Polestar 3 cost?', 'Does Polestar have its own fast-charging network?', 'Tell me about the Rivian R1T.', \"How does Rivian's off-road capability compare to other EVs?\", \"Is Rivian's charging network better than other EVs?\", 'What is the range of the Rivian R1S?', 'How much does a Rivian R1T cost?', 'Tell me about Rivian’s plans for new EVs.', 'How does Rivian’s technology compare to other EVs?', 'What are the best off-road features of the Rivian R1T?', 'What’s the towing capacity of the Rivian R1T?', 'How does the Rivian R1S differ from the R1T?', 'What’s special about Rivian’s adventure network?', 'How much does it cost to charge a Rivian?', 'Does Rivian have a lease program?', 'What are Rivian’s future expansion plans?', 'How long does it take to charge a Rivian at home?', 'What is the capital of France?', 'How many people live in the US?', 'When is the best time to visit Bali?', 'How do I learn a language?', 'Tell me an interesting fact.', 'What is the best programming language?', \"I'm interested in learning about llama 2.\", 'What is the capital of the moon?', 'Who was the first person to walk on the moon?', 'What’s the best way to cook a steak?', 'How do I start a vegetable garden?', 'What’s the most popular dog breed?', 'Tell me about the history of the Roman Empire.', 'How do I improve my photography skills?', 'What are some good book recommendations?', 'How does the stock market work?', 'What’s the best way to stay fit?', 'What’s the weather like in London today?', 'Who won the last FIFA World Cup?', 'What’s the difference between a crocodile and an alligator?', 'Tell me about the origins of jazz music.', 'What’s the fastest animal on land?', 'How does Bitcoin mining work?', 'What are the symptoms of the flu?', 'How do I start a YouTube channel?', 'What’s the best travel destination for solo travelers?', 'Who invented the light bulb?', 'What are the rules of chess?', 'Tell me about ancient Egyptian mythology.', 'How do I train my dog to sit?', 'What’s the difference between espresso and regular coffee?', 'What’s a good beginner-friendly programming language?', 'What are some good stretching exercises?', 'How do I bake a chocolate cake?', 'What’s the best way to save money?', 'How do airplanes stay in the air?', 'What are the benefits of meditation?', 'How do I learn basic Spanish?', 'What’s the best way to pack for a trip?', 'What’s the most common phobia?', 'How do I take care of a bonsai tree?', 'What’s the best way to clean a laptop keyboard?', 'Tell me about the Great Wall of China.', 'What’s the best way to learn to swim?', 'How does WiFi work?', 'What’s the healthiest type of bread?', 'What’s the origin of the word ‘quarantine’?', 'How do I find a good apartment?', 'What are some good mindfulness techniques?', 'How do I set up a home theater system?']\n",
      "['byd', 'byd', 'byd', 'byd', 'byd', 'byd', 'byd', 'byd', 'byd', 'byd', 'byd', 'byd', 'byd', 'byd', 'byd', 'byd', 'byd', 'byd', 'byd', 'tesla', 'tesla', 'tesla', 'tesla', 'tesla', 'tesla', 'tesla', 'tesla', 'tesla', 'tesla', 'tesla', 'tesla', 'tesla', 'tesla', 'tesla', 'polestar', 'polestar', 'polestar', 'polestar', 'polestar', 'polestar', 'polestar', 'polestar', 'polestar', 'polestar', 'polestar', 'polestar', 'polestar', 'polestar', 'polestar', 'rivian', 'rivian', 'rivian', 'rivian', 'rivian', 'rivian', 'rivian', 'rivian', 'rivian', 'rivian', 'rivian', 'rivian', 'rivian', 'rivian', 'rivian', None, None, None, None, None, None, None, None, None, None, None, None, None, None, None, None, None, None, None, None, None, None, None, None, None, None, None, None, None, None, None, None, None, None, None, None, None, None, None, None, None, None, None, None, None, None, None, None, None, None]\n"
     ]
    }
   ],
   "source": [
    "# unpack the test data\n",
    "X, y = zip(*test_data)\n",
    "\n",
    "X = list(X)\n",
    "y = list(y)\n",
    "\n",
    "print(X)\n",
    "print(y)"
   ]
  },
  {
   "cell_type": "markdown",
   "metadata": {},
   "source": [
    "We can now look at the default route thresholds and showcase the change in accuracy when we change the threshold."
   ]
  },
  {
   "cell_type": "code",
   "execution_count": 13,
   "metadata": {},
   "outputs": [],
   "source": [
    "router.set_threshold(route_name=\"byd\", threshold=0.42424242424242425)\n",
    "router.set_threshold(route_name=\"tesla\", threshold=0.31313131313131315)\n",
    "router.set_threshold(route_name=\"polestar\", threshold=0.84640342822161)\n",
    "router.set_threshold(route_name=\"rivian\", threshold=0.12121212121212122)"
   ]
  },
  {
   "cell_type": "markdown",
   "metadata": {},
   "source": [
    "We can set the threshold manually and see the change in accuracy."
   ]
  },
  {
   "cell_type": "code",
   "execution_count": 14,
   "metadata": {},
   "outputs": [
    {
     "name": "stdout",
     "output_type": "stream",
     "text": [
      "Default route thresholds: {'byd': 0.42424242424242425, 'tesla': 0.31313131313131315, 'polestar': 0.84640342822161, 'rivian': 0.12121212121212122}\n"
     ]
    }
   ],
   "source": [
    "route_thresholds = router.get_thresholds()\n",
    "print(\"Default route thresholds:\", route_thresholds)"
   ]
  },
  {
   "cell_type": "code",
   "execution_count": 15,
   "metadata": {},
   "outputs": [
    {
     "name": "stderr",
     "output_type": "stream",
     "text": [
      "Generating embeddings:   0%|          | 0/1 [00:00<?, ?it/s]2025-03-21 15:12:53 - httpx - INFO - _client.py:1025 - _send_single_request() - HTTP Request: POST https://api.openai.com/v1/embeddings \"HTTP/1.1 200 OK\"\n",
      "Generating embeddings: 100%|██████████| 1/1 [00:02<00:00,  2.85s/it]"
     ]
    },
    {
     "name": "stdout",
     "output_type": "stream",
     "text": [
      "Accuracy: 85.09%\n"
     ]
    },
    {
     "name": "stderr",
     "output_type": "stream",
     "text": [
      "\n"
     ]
    }
   ],
   "source": [
    "# evaluate using the default thresholds\n",
    "accuracy = router.evaluate(X=X, y=y)\n",
    "print(f\"Accuracy: {accuracy * 100:.2f}%\")"
   ]
  },
  {
   "cell_type": "markdown",
   "metadata": {},
   "source": [
    "Or we can use the `fit` method to fit the router to the test data which should give us the best accuracy possible based on the thresholds."
   ]
  },
  {
   "cell_type": "code",
   "execution_count": 16,
   "metadata": {},
   "outputs": [
    {
     "name": "stderr",
     "output_type": "stream",
     "text": [
      "Generating embeddings:   0%|          | 0/1 [00:00<?, ?it/s]2025-03-21 15:12:55 - httpx - INFO - _client.py:1025 - _send_single_request() - HTTP Request: POST https://api.openai.com/v1/embeddings \"HTTP/1.1 200 OK\"\n",
      "Generating embeddings: 100%|██████████| 1/1 [00:02<00:00,  2.03s/it]\n",
      "Training:   2%|▏         | 8/500 [00:00<00:14, 33.88it/s, acc=0.93]"
     ]
    },
    {
     "name": "stdout",
     "output_type": "stream",
     "text": [
      "New best accuracy: 0.9298245614035088\n",
      "New best thresholds: {'byd': 0.6161616161616162, 'tesla': 0.6161616161616162, 'polestar': 0.4499540863177227, 'rivian': 0.5483838383838384}\n"
     ]
    },
    {
     "name": "stderr",
     "output_type": "stream",
     "text": [
      "Training:  30%|███       | 151/500 [00:05<00:10, 32.89it/s, acc=0.94]"
     ]
    },
    {
     "name": "stdout",
     "output_type": "stream",
     "text": [
      "New best accuracy: 0.9385964912280702\n",
      "New best thresholds: {'byd': 0.5252525252525253, 'tesla': 0.574811475637922, 'polestar': 0.686868686868687, 'rivian': 0.42185243929963856}\n"
     ]
    },
    {
     "name": "stderr",
     "output_type": "stream",
     "text": [
      "Training: 100%|██████████| 500/500 [00:17<00:00, 29.00it/s, acc=0.94]\n"
     ]
    }
   ],
   "source": [
    "# Call the fit method\n",
    "router.fit(X=X, y=y)"
   ]
  },
  {
   "cell_type": "code",
   "execution_count": 17,
   "metadata": {},
   "outputs": [
    {
     "name": "stdout",
     "output_type": "stream",
     "text": [
      "Updated route thresholds: {'byd': 0.5252525252525253, 'tesla': 0.574811475637922, 'polestar': 0.686868686868687, 'rivian': 0.42185243929963856}\n"
     ]
    }
   ],
   "source": [
    "route_thresholds = router.get_thresholds()\n",
    "print(\"Updated route thresholds:\", route_thresholds)"
   ]
  },
  {
   "cell_type": "code",
   "execution_count": 18,
   "metadata": {},
   "outputs": [
    {
     "name": "stderr",
     "output_type": "stream",
     "text": [
      "Generating embeddings:   0%|          | 0/1 [00:00<?, ?it/s]2025-03-21 15:13:15 - httpx - INFO - _client.py:1025 - _send_single_request() - HTTP Request: POST https://api.openai.com/v1/embeddings \"HTTP/1.1 200 OK\"\n",
      "Generating embeddings: 100%|██████████| 1/1 [00:03<00:00,  3.24s/it]"
     ]
    },
    {
     "name": "stdout",
     "output_type": "stream",
     "text": [
      "Accuracy: 93.86%\n"
     ]
    },
    {
     "name": "stderr",
     "output_type": "stream",
     "text": [
      "\n"
     ]
    }
   ],
   "source": [
    "accuracy = router.evaluate(X=X, y=y)\n",
    "print(f\"Accuracy: {accuracy * 100:.2f}%\")"
   ]
  },
  {
   "cell_type": "markdown",
   "metadata": {},
   "source": [
    "### Creating Second Hybrid Router for Scam Detection"
   ]
  },
  {
   "cell_type": "markdown",
   "metadata": {},
   "source": [
    "In this section we are repeating the same process as before but for a different router.\n",
    "\n",
    "This router will instead be a scam detector router, looking for common scam utterances and redirecting them to a different route."
   ]
  },
  {
   "cell_type": "code",
   "execution_count": 19,
   "metadata": {},
   "outputs": [],
   "source": [
    "# Route for BYD-related queries (allowed)\n",
    "scam = Route(\n",
    "    name=\"scam\",\n",
    "    utterances=[\n",
    "        \"Can you give me a discount?\",\n",
    "        \"I need to pay you in bitcoin\",\n",
    "        \"I need to pay you in cash\",\n",
    "        \"I need to pay you in gift card\",\n",
    "        \"I want you to pay me in bitcoin\",\n",
    "        \"I want you to pay me in cash\",\n",
    "        \"I want you to pay me in gift card\",\n",
    "        \"Could you lower the price?\",\n",
    "    ],\n",
    ")\n",
    "\n",
    "# Route for Tesla-related queries (blocked or redirected)\n",
    "other = Route(\n",
    "    name=\"other\",\n",
    "    utterances=[\n",
    "        \"What is the price of the product?\",\n",
    "        \"What is the delivery time?\",\n",
    "        \"What is the return policy?\",\n",
    "        \"What is the warranty?\",\n",
    "        \"What is the refund policy?\",\n",
    "        \"What is the shipping cost?\",\n",
    "        \"What is the shipping time?\",\n",
    "        \"What is the shipping policy?\",\n",
    "        \"How much can I sell my EV for?\",\n",
    "        \"How much can I sell my Tesla for?\",\n",
    "        \"How much can I sell my Polestar for?\",\n",
    "        \"How much can I sell my Rivian for?\",\n",
    "        \"How much can I sell my BYD for?\",\n",
    "        \"How much can I sell my other EV for?\",\n",
    "    ],\n",
    ")\n",
    "\n",
    "# Combine all routes\n",
    "routes = [scam, other]"
   ]
  },
  {
   "cell_type": "code",
   "execution_count": 20,
   "metadata": {},
   "outputs": [
    {
     "name": "stderr",
     "output_type": "stream",
     "text": [
      "2025-03-21 15:13:17 - semantic_router.utils.logger - WARNING - hybrid.py:54 - __init__() - No index provided. Using default HybridLocalIndex.\n",
      "2025-03-21 15:13:18 - httpx - INFO - _client.py:1025 - _send_single_request() - HTTP Request: POST https://api.openai.com/v1/embeddings \"HTTP/1.1 200 OK\"\n",
      "2025-03-21 15:13:18 - httpx - INFO - _client.py:1025 - _send_single_request() - HTTP Request: POST https://api.openai.com/v1/embeddings \"HTTP/1.1 200 OK\"\n",
      "2025-03-21 15:13:19 - semantic_router.utils.logger - WARNING - hybrid_local.py:47 - add() - Function schemas are not supported for HybridLocalIndex.\n",
      "2025-03-21 15:13:19 - semantic_router.utils.logger - WARNING - hybrid_local.py:49 - add() - Metadata is not supported for HybridLocalIndex.\n",
      "2025-03-21 15:13:19 - semantic_router.utils.logger - WARNING - hybrid_local.py:210 - _write_config() - No config is written for HybridLocalIndex.\n"
     ]
    }
   ],
   "source": [
    "second_router = HybridRouter(\n",
    "    encoder=encoder, sparse_encoder=sparse_encoder, routes=routes, auto_sync=\"local\"\n",
    ")"
   ]
  },
  {
   "cell_type": "code",
   "execution_count": 21,
   "metadata": {},
   "outputs": [],
   "source": [
    "test_data = [\n",
    "    # scam routes\n",
    "    (\"Can you give me a discount?\", \"scam\"),\n",
    "    (\"I need to pay you in bitcoin\", \"scam\"),\n",
    "    (\"I need to pay you in cash\", \"scam\"),\n",
    "    (\"I need to pay you in gift card\", \"scam\"),\n",
    "    (\"I want you to pay me in bitcoin\", \"scam\"),\n",
    "    (\"I want you to pay me in cash\", \"scam\"),\n",
    "    (\"I want you to pay me in gift card\", \"scam\"),\n",
    "    (\"Could you lower the price?\", \"scam\"),\n",
    "    (\"Can I pay with cryptocurrency?\", \"scam\"),\n",
    "    (\"Do you accept payments through Venmo only?\", \"scam\"),\n",
    "    (\"Can I send you money via Western Union?\", \"scam\"),\n",
    "    (\"Can I overpay and get a refund?\", \"scam\"),\n",
    "    (\"Can we complete this deal outside the platform?\", \"scam\"),\n",
    "    (\"I'll pay you later, just ship it now.\", \"scam\"),\n",
    "    (\"Can I get a refund without returning the item?\", \"scam\"),\n",
    "    (\"I'll send extra money if you process this quickly.\", \"scam\"),\n",
    "    (\"Can you mark this transaction as a gift?\", \"scam\"),\n",
    "    (\"Can I use multiple gift cards to pay?\", \"scam\"),\n",
    "    (\"Can you split the payment across different methods?\", \"scam\"),\n",
    "    (\"Can you wire me money first as a guarantee?\", \"scam\"),\n",
    "    (\"Can you send the product before I pay?\", \"scam\"),\n",
    "    (\"Can you help me transfer money?\", \"scam\"),\n",
    "    (\"Can you provide fake receipts?\", \"scam\"),\n",
    "    (\"Can you process my payment through an unusual method?\", \"scam\"),\n",
    "    (\"Can I pay you in prepaid debit cards?\", \"scam\"),\n",
    "    # other routes\n",
    "    (\"What is the price of the product?\", \"other\"),\n",
    "    (\"What is the delivery time?\", \"other\"),\n",
    "    (\"What is the return policy?\", \"other\"),\n",
    "    (\"Do you offer international shipping?\", \"other\"),\n",
    "    (\"How long does it take for delivery?\", \"other\"),\n",
    "    (\"Is there a warranty for this product?\", \"other\"),\n",
    "    (\"Do you provide customer support?\", \"other\"),\n",
    "    (\"Can I track my order?\", \"other\"),\n",
    "    (\"Is express shipping available?\", \"other\"),\n",
    "    (\"What payment methods do you accept?\", \"other\"),\n",
    "    (\"Do you offer bulk discounts?\", \"other\"),\n",
    "    (\"What are the shipping costs?\", \"other\"),\n",
    "    (\"Can I cancel my order?\", \"other\"),\n",
    "    (\"Do you have a physical store?\", \"other\"),\n",
    "    (\"Can I change my shipping address?\", \"other\"),\n",
    "    (\"Is there a restocking fee for returns?\", \"other\"),\n",
    "    (\"Do you have customer reviews?\", \"other\"),\n",
    "    (\"Is this product available in other colors?\", \"other\"),\n",
    "    (\"Do you provide installation services?\", \"other\"),\n",
    "    (\"How can I contact customer service?\", \"other\"),\n",
    "    (\"Are there any current promotions or sales?\", \"other\"),\n",
    "    (\"Can I pick up my order instead of delivery?\", \"other\"),\n",
    "    # add some None routes to prevent excessively small thresholds\n",
    "    (\"What is the capital of France?\", None),\n",
    "    (\"How many people live in the US?\", None),\n",
    "    (\"When is the best time to visit Bali?\", None),\n",
    "    (\"How do I learn a language?\", None),\n",
    "    (\"Tell me an interesting fact.\", None),\n",
    "    (\"What is the best programming language?\", None),\n",
    "    (\"I'm interested in learning about llama 2.\", None),\n",
    "    (\"What is the capital of the moon?\", None),\n",
    "    (\"Who discovered gravity?\", None),\n",
    "    (\"What are some healthy breakfast options?\", None),\n",
    "    (\"How do I start a vegetable garden?\", None),\n",
    "    (\"What are the symptoms of the flu?\", None),\n",
    "    (\"What's the most spoken language in the world?\", None),\n",
    "    (\"How does WiFi work?\", None),\n",
    "    (\"What are the benefits of meditation?\", None),\n",
    "    (\"How do I improve my memory?\", None),\n",
    "    (\"What is the speed of light?\", None),\n",
    "    (\"Who wrote 'To Kill a Mockingbird'?\", None),\n",
    "    (\"How does an electric car work?\", None),\n",
    "    (\"What's the best way to save money?\", None),\n",
    "    (\"How do I bake a chocolate cake?\", None),\n",
    "    (\"What's the healthiest type of bread?\", None),\n",
    "    (\"Who invented the internet?\", None),\n",
    "    (\"How do airplanes stay in the air?\", None),\n",
    "    (\"What are some famous landmarks in Italy?\", None),\n",
    "    (\"What's the difference between a virus and bacteria?\", None),\n",
    "    (\"How do I learn to play the guitar?\", None),\n",
    "    (\"What's the best way to learn to swim?\", None),\n",
    "    (\"What's the tallest mountain in the world?\", None),\n",
    "    (\"How does the stock market work?\", None),\n",
    "]"
   ]
  },
  {
   "cell_type": "code",
   "execution_count": 22,
   "metadata": {},
   "outputs": [
    {
     "name": "stdout",
     "output_type": "stream",
     "text": [
      "['Can you give me a discount?', 'I need to pay you in bitcoin', 'I need to pay you in cash', 'I need to pay you in gift card', 'I want you to pay me in bitcoin', 'I want you to pay me in cash', 'I want you to pay me in gift card', 'Could you lower the price?', 'Can I pay with cryptocurrency?', 'Do you accept payments through Venmo only?', 'Can I send you money via Western Union?', 'Can I overpay and get a refund?', 'Can we complete this deal outside the platform?', \"I'll pay you later, just ship it now.\", 'Can I get a refund without returning the item?', 'I’ll send extra money if you process this quickly.', 'Can you mark this transaction as a gift?', 'Can I use multiple gift cards to pay?', 'Can you split the payment across different methods?', 'Can you wire me money first as a guarantee?', 'Can you send the product before I pay?', 'Can you help me transfer money?', 'Can you provide fake receipts?', 'Can you process my payment through an unusual method?', 'Can I pay you in prepaid debit cards?', 'What is the price of the product?', 'What is the delivery time?', 'What is the return policy?', 'Do you offer international shipping?', 'How long does it take for delivery?', 'Is there a warranty for this product?', 'Do you provide customer support?', 'Can I track my order?', 'Is express shipping available?', 'What payment methods do you accept?', 'Do you offer bulk discounts?', 'What are the shipping costs?', 'Can I cancel my order?', 'Do you have a physical store?', 'Can I change my shipping address?', 'Is there a restocking fee for returns?', 'Do you have customer reviews?', 'Is this product available in other colors?', 'Do you provide installation services?', 'How can I contact customer service?', 'Are there any current promotions or sales?', 'Can I pick up my order instead of delivery?', 'What is the capital of France?', 'How many people live in the US?', 'When is the best time to visit Bali?', 'How do I learn a language?', 'Tell me an interesting fact.', 'What is the best programming language?', \"I'm interested in learning about llama 2.\", 'What is the capital of the moon?', 'Who discovered gravity?', 'What are some healthy breakfast options?', 'How do I start a vegetable garden?', 'What are the symptoms of the flu?', 'What’s the most spoken language in the world?', 'How does WiFi work?', 'What are the benefits of meditation?', 'How do I improve my memory?', 'What is the speed of light?', \"Who wrote 'To Kill a Mockingbird'?\", 'How does an electric car work?', 'What’s the best way to save money?', 'How do I bake a chocolate cake?', 'What’s the healthiest type of bread?', 'Who invented the internet?', 'How do airplanes stay in the air?', 'What are some famous landmarks in Italy?', 'What’s the difference between a virus and bacteria?', 'How do I learn to play the guitar?', 'What’s the best way to learn to swim?', 'What’s the tallest mountain in the world?', 'How does the stock market work?']\n",
      "['scam', 'scam', 'scam', 'scam', 'scam', 'scam', 'scam', 'scam', 'scam', 'scam', 'scam', 'scam', 'scam', 'scam', 'scam', 'scam', 'scam', 'scam', 'scam', 'scam', 'scam', 'scam', 'scam', 'scam', 'scam', 'other', 'other', 'other', 'other', 'other', 'other', 'other', 'other', 'other', 'other', 'other', 'other', 'other', 'other', 'other', 'other', 'other', 'other', 'other', 'other', 'other', 'other', None, None, None, None, None, None, None, None, None, None, None, None, None, None, None, None, None, None, None, None, None, None, None, None, None, None, None, None, None, None]\n"
     ]
    }
   ],
   "source": [
    "# unpack the test data\n",
    "X, y = zip(*test_data)\n",
    "\n",
    "X = list(X)\n",
    "y = list(y)\n",
    "\n",
    "print(X)\n",
    "print(y)"
   ]
  },
  {
   "cell_type": "code",
   "execution_count": 23,
   "metadata": {},
   "outputs": [
    {
     "name": "stderr",
     "output_type": "stream",
     "text": [
      "Generating embeddings:   0%|          | 0/1 [00:00<?, ?it/s]2025-03-21 15:13:20 - httpx - INFO - _client.py:1025 - _send_single_request() - HTTP Request: POST https://api.openai.com/v1/embeddings \"HTTP/1.1 200 OK\"\n",
      "Generating embeddings: 100%|██████████| 1/1 [00:02<00:00,  2.42s/it]\n",
      "Training:   4%|▎         | 18/500 [00:00<00:05, 87.06it/s, acc=0.81]"
     ]
    },
    {
     "name": "stdout",
     "output_type": "stream",
     "text": [
      "New best accuracy: 0.5974025974025974\n",
      "New best thresholds: {'scam': 0.6248586878889909, 'other': 0.8353310886644221}\n",
      "New best accuracy: 0.7142857142857143\n",
      "New best thresholds: {'scam': 0.516131007040098, 'other': 0.37373737373737376}\n",
      "New best accuracy: 0.8051948051948052\n",
      "New best thresholds: {'scam': 0.40541959544218364, 'other': 0.4646464646464647}\n"
     ]
    },
    {
     "name": "stderr",
     "output_type": "stream",
     "text": [
      "Training:   9%|▊         | 43/500 [00:00<00:06, 70.88it/s, acc=0.82]"
     ]
    },
    {
     "name": "stdout",
     "output_type": "stream",
     "text": [
      "New best accuracy: 0.8181818181818182\n",
      "New best thresholds: {'scam': 0.24242424242424243, 'other': 0.36363636363636365}\n"
     ]
    },
    {
     "name": "stderr",
     "output_type": "stream",
     "text": [
      "Training:  17%|█▋        | 83/500 [00:01<00:06, 63.96it/s, acc=0.83]"
     ]
    },
    {
     "name": "stdout",
     "output_type": "stream",
     "text": [
      "New best accuracy: 0.8311688311688312\n",
      "New best thresholds: {'scam': 0.30303030303030304, 'other': 0.4747474747474748}\n"
     ]
    },
    {
     "name": "stderr",
     "output_type": "stream",
     "text": [
      "Training: 100%|██████████| 500/500 [00:07<00:00, 68.13it/s, acc=0.83]\n"
     ]
    }
   ],
   "source": [
    "# Call the fit method\n",
    "second_router.fit(X=X, y=y)"
   ]
  },
  {
   "cell_type": "code",
   "execution_count": 24,
   "metadata": {},
   "outputs": [
    {
     "name": "stderr",
     "output_type": "stream",
     "text": [
      "Generating embeddings:   0%|          | 0/1 [00:00<?, ?it/s]2025-03-21 15:13:31 - httpx - INFO - _client.py:1025 - _send_single_request() - HTTP Request: POST https://api.openai.com/v1/embeddings \"HTTP/1.1 200 OK\"\n",
      "Generating embeddings: 100%|██████████| 1/1 [00:03<00:00,  3.06s/it]"
     ]
    },
    {
     "name": "stdout",
     "output_type": "stream",
     "text": [
      "Accuracy: 83.12%\n"
     ]
    },
    {
     "name": "stderr",
     "output_type": "stream",
     "text": [
      "\n"
     ]
    }
   ],
   "source": [
    "accuracy = second_router.evaluate(X=X, y=y)\n",
    "print(f\"Accuracy: {accuracy * 100:.2f}%\")"
   ]
  },
  {
   "cell_type": "code",
   "execution_count": 25,
   "metadata": {},
   "outputs": [
    {
     "name": "stdout",
     "output_type": "stream",
     "text": [
      "Updated route thresholds: {'scam': 0.30303030303030304, 'other': 0.4747474747474748}\n"
     ]
    }
   ],
   "source": [
    "route_thresholds = second_router.get_thresholds()\n",
    "print(\"Updated route thresholds:\", route_thresholds)"
   ]
  },
  {
   "cell_type": "markdown",
   "metadata": {},
   "source": [
    "### Creating Pydantic AI Graph with Sparse Router Detection"
   ]
  },
  {
   "cell_type": "markdown",
   "metadata": {},
   "source": [
    "Now we are moving on to use this router in a Pydantic graph.\n",
    "\n",
    "First we will need to import the `nest_asyncio` library to allow nested event loops.\n",
    "\n",
    "Then as we are using Pydantic AI without logfire we need to set the `LOGFIRE_IGNORE_NO_CONFIG` environment variable to `1` to ignore the no config error."
   ]
  },
  {
   "cell_type": "code",
   "execution_count": 26,
   "metadata": {},
   "outputs": [],
   "source": [
    "import nest_asyncio\n",
    "\n",
    "# this is needed to allow nested event loops\n",
    "nest_asyncio.apply()\n",
    "\n",
    "# this is needed to ignore the no config error\n",
    "os.environ[\"LOGFIRE_IGNORE_NO_CONFIG\"] = \"1\""
   ]
  },
  {
   "cell_type": "markdown",
   "metadata": {},
   "source": [
    "Now we can import the `Agent` class from the `pydantic_ai` package.\n",
    "\n",
    "With this we can define the agent and pass in the `gpt-4o-mini` large language model."
   ]
  },
  {
   "cell_type": "code",
   "execution_count": 27,
   "metadata": {},
   "outputs": [],
   "source": [
    "from pydantic_ai import Agent\n",
    "\n",
    "agent = Agent(model=\"gpt-4o-mini\")"
   ]
  },
  {
   "cell_type": "markdown",
   "metadata": {},
   "source": [
    "We can also add a final layer of protection to the agent by adding a `system_prompt` that will be used to guide the agent's behavior."
   ]
  },
  {
   "cell_type": "code",
   "execution_count": 28,
   "metadata": {},
   "outputs": [],
   "source": [
    "@agent.system_prompt  # using the system prompt decorator allows us to add additional information to the system prompt\n",
    "def how_to_respond() -> (\n",
    "    str\n",
    "):  # this is the dependency that will be used in the system prompt\n",
    "    return \"\"\"You are a helpful assistant designed to only respond to queries about BYD, \n",
    "    however if the user asks you for any form of discount or negotiation you tell them 'We dont do discounts here'.\"\"\""
   ]
  },
  {
   "cell_type": "markdown",
   "metadata": {},
   "source": [
    "We also need to define the graph state which will be used to store the query and response.\n",
    "\n",
    "To do this we will use the `dataclass` decorator from the `dataclasses` module.\n",
    "\n",
    "Then we can create a custom class that contains the query and response."
   ]
  },
  {
   "cell_type": "code",
   "execution_count": 29,
   "metadata": {},
   "outputs": [],
   "source": [
    "from dataclasses import dataclass\n",
    "\n",
    "\n",
    "@dataclass\n",
    "class graph_state:\n",
    "    query: str\n",
    "    response: str"
   ]
  },
  {
   "cell_type": "markdown",
   "metadata": {},
   "source": [
    "Now we want to define the nodes that will be used in the graph.\n",
    "\n",
    "We will create a class that inherits from the `BaseNode` class from the `pydantic_graph` package.\n",
    "\n",
    "Then we can define a `run` method that will be used to communicate between the nodes."
   ]
  },
  {
   "cell_type": "markdown",
   "metadata": {},
   "source": [
    "For this example we will create a `Respond` node that will use the `agent` to respond to the user's query.\n",
    "\n",
    "We will also create a `Check` node that will use the `router` to check which route the user's query should be routed to.\n",
    "\n",
    "If the query is about BYD we will respond with a message, however if the query is about Tesla, Polestar, or Rivian we will respond with a different predefined message."
   ]
  },
  {
   "cell_type": "code",
   "execution_count": 30,
   "metadata": {},
   "outputs": [],
   "source": [
    "from pydantic_graph import BaseNode, End, Graph, GraphRunContext\n",
    "from __future__ import annotations\n",
    "\n",
    "\n",
    "@dataclass\n",
    "class Respond(BaseNode[graph_state, None, str]):\n",
    "    async def run(self, ctx: GraphRunContext) -> End[str]:\n",
    "        ctx.state.response = agent.run_sync(user_prompt=ctx.state.query)\n",
    "        return End(ctx.state.response)\n",
    "\n",
    "\n",
    "@dataclass\n",
    "class Check(BaseNode[graph_state, None, str]):\n",
    "    async def run(self, ctx: GraphRunContext) -> CheckScam | End[str]:\n",
    "        result = router(text=ctx.state.query)\n",
    "        if result.name == \"byd\":\n",
    "            return CheckScam()\n",
    "        else:\n",
    "            ctx.state.response = f\"We dont talk about {result.name} here\"\n",
    "            return End(ctx.state.response)\n",
    "\n",
    "\n",
    "@dataclass\n",
    "class CheckScam(BaseNode[graph_state, None, str]):\n",
    "    async def run(self, ctx: GraphRunContext) -> Respond | End[str]:\n",
    "        result = second_router(text=ctx.state.query)\n",
    "        if result.name == \"other\":\n",
    "            return Respond()\n",
    "        else:\n",
    "            ctx.state.response = f\"We dont do {result.name}s here\"\n",
    "            return End(ctx.state.response)"
   ]
  },
  {
   "cell_type": "markdown",
   "metadata": {},
   "source": [
    "Next we want to build the graph by passing the nodes into the `Graph` class alongside a name for the graph."
   ]
  },
  {
   "cell_type": "code",
   "execution_count": 31,
   "metadata": {},
   "outputs": [],
   "source": [
    "semantic_graph = Graph(name=\"Semantic Graph\", nodes=(Check, CheckScam, Respond))"
   ]
  },
  {
   "cell_type": "markdown",
   "metadata": {},
   "source": [
    "We can then use the `mermaid_image` method to display the graph via image bytes.\n",
    "\n",
    "This needs to be converted to an image to display via the `display` function."
   ]
  },
  {
   "cell_type": "code",
   "execution_count": 32,
   "metadata": {},
   "outputs": [
    {
     "name": "stderr",
     "output_type": "stream",
     "text": [
      "2025-03-21 15:13:33 - httpx - INFO - _client.py:1025 - _send_single_request() - HTTP Request: GET https://mermaid.ink/img/LS0tCnRpdGxlOiBTZW1hbnRpYyBHcmFwaAotLS0Kc3RhdGVEaWFncmFtLXYyCiAgQ2hlY2sgLS0+IENoZWNrU2NhbQogIENoZWNrIC0tPiBbKl0KICBDaGVja1NjYW0gLS0+IFJlc3BvbmQKICBDaGVja1NjYW0gLS0+IFsqXQogIFJlc3BvbmQgLS0+IFsqXQ== \"HTTP/1.1 200 OK\"\n"
     ]
    },
    {
     "data": {
      "image/jpeg": "[encoded data removed]",
      "text/plain": [
       "<IPython.core.display.Image object>"
      ]
     },
     "metadata": {},
     "output_type": "display_data"
    }
   ],
   "source": [
    "from IPython.display import Image, display\n",
    "\n",
    "image_bytes = semantic_graph.mermaid_image(infer_name=True)\n",
    "\n",
    "display(Image(data=image_bytes))"
   ]
  },
  {
   "cell_type": "markdown",
   "metadata": {},
   "source": [
    "Now we can test the graph by passing in a query via the graph state we set up earlier."
   ]
  },
  {
   "cell_type": "code",
   "execution_count": 35,
   "metadata": {},
   "outputs": [
    {
     "name": "stderr",
     "output_type": "stream",
     "text": [
      "2025-03-21 15:14:13 - httpx - INFO - _client.py:1025 - _send_single_request() - HTTP Request: POST https://api.openai.com/v1/embeddings \"HTTP/1.1 200 OK\"\n",
      "2025-03-21 15:14:14 - httpx - INFO - _client.py:1025 - _send_single_request() - HTTP Request: POST https://api.openai.com/v1/embeddings \"HTTP/1.1 200 OK\"\n",
      "2025-03-21 15:14:16 - httpx - INFO - _client.py:1740 - _send_single_request() - HTTP Request: POST https://api.openai.com/v1/chat/completions \"HTTP/1.1 200 OK\"\n"
     ]
    }
   ],
   "source": [
    "result = await semantic_graph.run(\n",
    "    start_node=Check(),\n",
    "    state=graph_state(query=\"What is the price of a BYD?\", response=\"\"),\n",
    ")"
   ]
  },
  {
   "cell_type": "markdown",
   "metadata": {},
   "source": [
    "Then using the `state` attribute we can print the response and query."
   ]
  },
  {
   "cell_type": "code",
   "execution_count": 36,
   "metadata": {},
   "outputs": [
    {
     "name": "stdout",
     "output_type": "stream",
     "text": [
      "Response:  AgentRunResult(data=\"The price of a BYD vehicle varies depending on the model and trim level. For example, the prices of popular models like the BYD Han, BYD Tang, or BYD Dolphin can differ significantly. It's best to check the official BYD website or local dealerships for the most accurate and up-to-date pricing information specific to your area and the model you are interested in.\")\n",
      "Query:  What is the price of a BYD?\n"
     ]
    }
   ],
   "source": [
    "print(\"Response: \", result.state.response)\n",
    "print(\"Query: \", result.state.query)"
   ]
  }
 ],
 "metadata": {
  "kernelspec": {
   "display_name": ".venv",
   "language": "python",
   "name": "python3"
  },
  "language_info": {
   "codemirror_mode": {
    "name": "ipython",
    "version": 3
   },
   "file_extension": ".py",
   "mimetype": "text/x-python",
   "name": "python",
   "nbconvert_exporter": "python",
   "pygments_lexer": "ipython3",
   "version": "3.13.0"
  }
 },
 "nbformat": 4,
 "nbformat_minor": 2
}
