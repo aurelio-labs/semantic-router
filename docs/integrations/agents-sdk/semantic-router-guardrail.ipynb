{
 "cells": [
  {
   "cell_type": "markdown",
   "metadata": {},
   "source": [
    "[![Open In Colab](https://colab.research.google.com/assets/colab-badge.svg)](https://colab.research.google.com/github/aurelio-labs/semantic-router/blob/main/docs/integrations/agents-sdk/semantic-router-guardrails.ipynb) [![Open nbviewer](https://raw.githubusercontent.com/pinecone-io/examples/master/assets/nbviewer-shield.svg)](https://nbviewer.org/github/aurelio-labs/semantic-router/blob/main/docs/integrations/agents-sdk/semantic-router-guardrails.ipynb)"
   ]
  },
  {
   "cell_type": "markdown",
   "metadata": {},
   "source": [
    "## Agents SDK Guardrails with the Semantic Router"
   ]
  },
  {
   "cell_type": "markdown",
   "metadata": {},
   "source": [
    "In this notebook we will go over how to create and optimise the `Semantic Router` via using the `.fit` methods. Afterwards we will then create some `guardrails` using the `Agents SDK` API library."
   ]
  },
  {
   "cell_type": "markdown",
   "metadata": {},
   "source": [
    "### Install Prerequisites"
   ]
  },
  {
   "cell_type": "code",
   "execution_count": null,
   "metadata": {},
   "outputs": [],
   "source": [
    "!pip install -qU \\\n",
    "    semantic-router>=0.1.4 \\\n",
    "    pydantic-ai>=0.0.42 \\\n",
    "    openai-agents>=0.0.7"
   ]
  },
  {
   "cell_type": "markdown",
   "metadata": {},
   "source": [
    "This will also require an Aurelio API key for the methods and use of the Semantic Router, which can be obtained from the [Aurelio Platform website](https://platform.aurelio.ai/settings/api-keys)."
   ]
  },
  {
   "cell_type": "code",
   "execution_count": 1,
   "metadata": {},
   "outputs": [],
   "source": [
    "import os\n",
    "from getpass import getpass\n",
    "\n",
    "os.environ[\"AURELIO_API_KEY\"] = os.getenv(\"AURELIO_API_KEY\") or getpass(\n",
    "    \"Enter Aurelio API Key: \"\n",
    ")"
   ]
  },
  {
   "cell_type": "markdown",
   "metadata": {},
   "source": [
    "Next we need to define the dense encoder, and similar to before we need to import the `OpenAIEncoder` class from the `semantic_router.encoders` package.\n",
    "\n",
    "This will also require an OpenAI API key, which can be obtained from the [OpenAI Platform website](https://platform.openai.com/api-keys).\n",
    "\n",
    "Now we can define the dense encoder and use the `text-embedding-3-small` model alongside a score threshold of 0.3."
   ]
  },
  {
   "cell_type": "code",
   "execution_count": 3,
   "metadata": {},
   "outputs": [],
   "source": [
    "from semantic_router.encoders import OpenAIEncoder\n",
    "\n",
    "os.environ[\"OPENAI_API_KEY\"] = os.getenv(\"OPENAI_API_KEY\") or getpass(\n",
    "    \"Enter OpenAI API Key: \"\n",
    ")\n",
    "# dense encoder for semantic meaning\n",
    "encoder = OpenAIEncoder(name=\"text-embedding-3-small\", score_threshold=0.3)"
   ]
  },
  {
   "cell_type": "markdown",
   "metadata": {},
   "source": [
    "### Creating Semantic Router for Dense Encoder Detection"
   ]
  },
  {
   "cell_type": "markdown",
   "metadata": {},
   "source": [
    "To begin we first need to import the `Route` class from the `semantic_router` package.\n",
    "\n",
    "Then we can define the routes that we want to use in our semantic router. Giving each route a name and a list of utterances that we want to use to represent the route.\n"
   ]
  },
  {
   "cell_type": "code",
   "execution_count": 4,
   "metadata": {},
   "outputs": [],
   "source": [
    "from semantic_router import Route\n",
    "\n",
    "# Route for BYD-related queries (allowed)\n",
    "scam = Route(\n",
    "    name=\"scam\",\n",
    "    utterances=[\n",
    "        \"Can you give me a discount?\",\n",
    "        \"I need to pay you in bitcoin\",\n",
    "        \"I need to pay you in cash\",\n",
    "        \"I need to pay you in gift card\",\n",
    "        \"I want you to pay me in bitcoin\",\n",
    "        \"I want you to pay me in cash\",\n",
    "        \"I want you to pay me in gift card\",\n",
    "        \"Could you lower the price?\",\n",
    "    ],\n",
    ")\n",
    "\n",
    "# Route for Tesla-related queries (blocked or redirected)\n",
    "other = Route(\n",
    "    name=\"other\",\n",
    "    utterances=[\n",
    "        \"What is the price of the product?\",\n",
    "        \"What is the delivery time?\",\n",
    "        \"What is the return policy?\",\n",
    "        \"What is the warranty?\",\n",
    "        \"What is the refund policy?\",\n",
    "        \"What is the shipping cost?\",\n",
    "        \"What is the shipping time?\",\n",
    "        \"What is the shipping policy?\",\n",
    "        \"How much can I sell my EV for?\",\n",
    "        \"How much can I sell my Tesla for?\",\n",
    "        \"How much can I sell my Polestar for?\",\n",
    "        \"How much can I sell my Rivian for?\",\n",
    "        \"How much can I sell my BYD for?\",\n",
    "        \"How much can I sell my other EV for?\",\n",
    "    ],\n",
    ")\n",
    "\n",
    "# Combine all routes\n",
    "routes = [scam, other]"
   ]
  },
  {
   "cell_type": "markdown",
   "metadata": {},
   "source": [
    "Now we have all the components needed including the routes, sparse encoder, and dense encoder to create our semantic router.\n",
    "\n",
    "Within the `SemanticRouter` class we pass in the dense encoder, routes, and the `auto_sync` parameter."
   ]
  },
  {
   "cell_type": "code",
   "execution_count": 5,
   "metadata": {},
   "outputs": [
    {
     "name": "stderr",
     "output_type": "stream",
     "text": [
      "2025-04-05 10:33:10 - semantic_router.utils.logger - WARNING - base.py:442 - _get_index() - No index provided. Using default LocalIndex.\n",
      "2025-04-05 10:33:11 - httpx - INFO - _client.py:1025 - _send_single_request() - HTTP Request: POST https://api.openai.com/v1/embeddings \"HTTP/1.1 200 OK\"\n",
      "2025-04-05 10:33:12 - httpx - INFO - _client.py:1025 - _send_single_request() - HTTP Request: POST https://api.openai.com/v1/embeddings \"HTTP/1.1 200 OK\"\n",
      "2025-04-05 10:33:13 - semantic_router.utils.logger - WARNING - local.py:213 - _write_config() - No config is written for LocalIndex.\n"
     ]
    }
   ],
   "source": [
    "from semantic_router.routers import SemanticRouter\n",
    "\n",
    "scam_router = SemanticRouter(encoder=encoder, routes=routes, auto_sync=\"local\")"
   ]
  },
  {
   "cell_type": "markdown",
   "metadata": {},
   "source": [
    "Unfortunatly having a small dataset of utterances for each route is not enough to get a good understanding of the router's performance.\n",
    "\n",
    "So we will use a larger dataset of related queries to evaluate the router.\n"
   ]
  },
  {
   "cell_type": "code",
   "execution_count": 6,
   "metadata": {},
   "outputs": [],
   "source": [
    "test_data = [\n",
    "    # scam routes\n",
    "    (\"Can you give me a discount?\", \"scam\"),\n",
    "    (\"I need to pay you in bitcoin\", \"scam\"),\n",
    "    (\"I need to pay you in cash\", \"scam\"),\n",
    "    (\"I need to pay you in gift card\", \"scam\"),\n",
    "    (\"I want you to pay me in bitcoin\", \"scam\"),\n",
    "    (\"I want you to pay me in cash\", \"scam\"),\n",
    "    (\"I want you to pay me in gift card\", \"scam\"),\n",
    "    (\"Could you lower the price?\", \"scam\"),\n",
    "    (\"Can I pay with cryptocurrency?\", \"scam\"),\n",
    "    (\"Do you accept payments through Venmo only?\", \"scam\"),\n",
    "    (\"Can I send you money via Western Union?\", \"scam\"),\n",
    "    (\"Can I overpay and get a refund?\", \"scam\"),\n",
    "    (\"Can we complete this deal outside the platform?\", \"scam\"),\n",
    "    (\"I'll pay you later, just ship it now.\", \"scam\"),\n",
    "    (\"Can I get a refund without returning the item?\", \"scam\"),\n",
    "    (\"I’ll send extra money if you process this quickly.\", \"scam\"),\n",
    "    (\"Can you mark this transaction as a gift?\", \"scam\"),\n",
    "    (\"Can I use multiple gift cards to pay?\", \"scam\"),\n",
    "    (\"Can you split the payment across different methods?\", \"scam\"),\n",
    "    (\"Can you wire me money first as a guarantee?\", \"scam\"),\n",
    "    (\"Can you send the product before I pay?\", \"scam\"),\n",
    "    (\"Can you help me transfer money?\", \"scam\"),\n",
    "    (\"Can you provide fake receipts?\", \"scam\"),\n",
    "    (\"Can you process my payment through an unusual method?\", \"scam\"),\n",
    "    (\"Can I pay you in prepaid debit cards?\", \"scam\"),\n",
    "    # other routes\n",
    "    (\"What is the price of the product?\", \"other\"),\n",
    "    (\"What is the delivery time?\", \"other\"),\n",
    "    (\"What is the return policy?\", \"other\"),\n",
    "    (\"Do you offer international shipping?\", \"other\"),\n",
    "    (\"How long does it take for delivery?\", \"other\"),\n",
    "    (\"Is there a warranty for this product?\", \"other\"),\n",
    "    (\"Do you provide customer support?\", \"other\"),\n",
    "    (\"Can I track my order?\", \"other\"),\n",
    "    (\"Is express shipping available?\", \"other\"),\n",
    "    (\"What payment methods do you accept?\", \"other\"),\n",
    "    (\"Do you offer bulk discounts?\", \"other\"),\n",
    "    (\"What are the shipping costs?\", \"other\"),\n",
    "    (\"Can I cancel my order?\", \"other\"),\n",
    "    (\"Do you have a physical store?\", \"other\"),\n",
    "    (\"Can I change my shipping address?\", \"other\"),\n",
    "    (\"Is there a restocking fee for returns?\", \"other\"),\n",
    "    (\"Do you have customer reviews?\", \"other\"),\n",
    "    (\"Is this product available in other colors?\", \"other\"),\n",
    "    (\"Do you provide installation services?\", \"other\"),\n",
    "    (\"How can I contact customer service?\", \"other\"),\n",
    "    (\"Are there any current promotions or sales?\", \"other\"),\n",
    "    (\"Can I pick up my order instead of delivery?\", \"other\"),\n",
    "    # add some None routes to prevent excessively small thresholds\n",
    "    (\"What is the capital of France?\", None),\n",
    "    (\"How many people live in the US?\", None),\n",
    "    (\"When is the best time to visit Bali?\", None),\n",
    "    (\"How do I learn a language?\", None),\n",
    "    (\"Tell me an interesting fact.\", None),\n",
    "    (\"What is the best programming language?\", None),\n",
    "    (\"I'm interested in learning about llama 2.\", None),\n",
    "    (\"What is the capital of the moon?\", None),\n",
    "    (\"Who discovered gravity?\", None),\n",
    "    (\"What are some healthy breakfast options?\", None),\n",
    "    (\"How do I start a vegetable garden?\", None),\n",
    "    (\"What are the symptoms of the flu?\", None),\n",
    "    (\"What’s the most spoken language in the world?\", None),\n",
    "    (\"How does WiFi work?\", None),\n",
    "    (\"What are the benefits of meditation?\", None),\n",
    "    (\"How do I improve my memory?\", None),\n",
    "    (\"What is the speed of light?\", None),\n",
    "    (\"Who wrote 'To Kill a Mockingbird'?\", None),\n",
    "    (\"How does an electric car work?\", None),\n",
    "    (\"What’s the best way to save money?\", None),\n",
    "    (\"How do I bake a chocolate cake?\", None),\n",
    "    (\"What’s the healthiest type of bread?\", None),\n",
    "    (\"Who invented the internet?\", None),\n",
    "    (\"How do airplanes stay in the air?\", None),\n",
    "    (\"What are some famous landmarks in Italy?\", None),\n",
    "    (\"What’s the difference between a virus and bacteria?\", None),\n",
    "    (\"How do I learn to play the guitar?\", None),\n",
    "    (\"What’s the best way to learn to swim?\", None),\n",
    "    (\"What’s the tallest mountain in the world?\", None),\n",
    "    (\"How does the stock market work?\", None),\n",
    "]"
   ]
  },
  {
   "cell_type": "markdown",
   "metadata": {},
   "source": [
    "Using the new test data we can also evaluate the router with a higher degree of accuracy due to the larger dataset."
   ]
  },
  {
   "cell_type": "code",
   "execution_count": 7,
   "metadata": {},
   "outputs": [
    {
     "name": "stdout",
     "output_type": "stream",
     "text": [
      "['Can you give me a discount?', 'I need to pay you in bitcoin', 'I need to pay you in cash', 'I need to pay you in gift card', 'I want you to pay me in bitcoin', 'I want you to pay me in cash', 'I want you to pay me in gift card', 'Could you lower the price?', 'Can I pay with cryptocurrency?', 'Do you accept payments through Venmo only?', 'Can I send you money via Western Union?', 'Can I overpay and get a refund?', 'Can we complete this deal outside the platform?', \"I'll pay you later, just ship it now.\", 'Can I get a refund without returning the item?', 'I’ll send extra money if you process this quickly.', 'Can you mark this transaction as a gift?', 'Can I use multiple gift cards to pay?', 'Can you split the payment across different methods?', 'Can you wire me money first as a guarantee?', 'Can you send the product before I pay?', 'Can you help me transfer money?', 'Can you provide fake receipts?', 'Can you process my payment through an unusual method?', 'Can I pay you in prepaid debit cards?', 'What is the price of the product?', 'What is the delivery time?', 'What is the return policy?', 'Do you offer international shipping?', 'How long does it take for delivery?', 'Is there a warranty for this product?', 'Do you provide customer support?', 'Can I track my order?', 'Is express shipping available?', 'What payment methods do you accept?', 'Do you offer bulk discounts?', 'What are the shipping costs?', 'Can I cancel my order?', 'Do you have a physical store?', 'Can I change my shipping address?', 'Is there a restocking fee for returns?', 'Do you have customer reviews?', 'Is this product available in other colors?', 'Do you provide installation services?', 'How can I contact customer service?', 'Are there any current promotions or sales?', 'Can I pick up my order instead of delivery?', 'What is the capital of France?', 'How many people live in the US?', 'When is the best time to visit Bali?', 'How do I learn a language?', 'Tell me an interesting fact.', 'What is the best programming language?', \"I'm interested in learning about llama 2.\", 'What is the capital of the moon?', 'Who discovered gravity?', 'What are some healthy breakfast options?', 'How do I start a vegetable garden?', 'What are the symptoms of the flu?', 'What’s the most spoken language in the world?', 'How does WiFi work?', 'What are the benefits of meditation?', 'How do I improve my memory?', 'What is the speed of light?', \"Who wrote 'To Kill a Mockingbird'?\", 'How does an electric car work?', 'What’s the best way to save money?', 'How do I bake a chocolate cake?', 'What’s the healthiest type of bread?', 'Who invented the internet?', 'How do airplanes stay in the air?', 'What are some famous landmarks in Italy?', 'What’s the difference between a virus and bacteria?', 'How do I learn to play the guitar?', 'What’s the best way to learn to swim?', 'What’s the tallest mountain in the world?', 'How does the stock market work?']\n",
      "['scam', 'scam', 'scam', 'scam', 'scam', 'scam', 'scam', 'scam', 'scam', 'scam', 'scam', 'scam', 'scam', 'scam', 'scam', 'scam', 'scam', 'scam', 'scam', 'scam', 'scam', 'scam', 'scam', 'scam', 'scam', 'other', 'other', 'other', 'other', 'other', 'other', 'other', 'other', 'other', 'other', 'other', 'other', 'other', 'other', 'other', 'other', 'other', 'other', 'other', 'other', 'other', 'other', None, None, None, None, None, None, None, None, None, None, None, None, None, None, None, None, None, None, None, None, None, None, None, None, None, None, None, None, None, None]\n"
     ]
    }
   ],
   "source": [
    "# unpack the test data\n",
    "X, y = zip(*test_data)\n",
    "\n",
    "X = list(X)\n",
    "y = list(y)\n",
    "\n",
    "print(X)\n",
    "print(y)"
   ]
  },
  {
   "cell_type": "markdown",
   "metadata": {},
   "source": [
    "We can use the `fit` method to fit the router to the test data which should give us the best accuracy possible based on the thresholds."
   ]
  },
  {
   "cell_type": "code",
   "execution_count": 8,
   "metadata": {},
   "outputs": [
    {
     "name": "stderr",
     "output_type": "stream",
     "text": [
      "Generating embeddings:   0%|          | 0/1 [00:00<?, ?it/s]2025-04-05 10:33:17 - httpx - INFO - _client.py:1025 - _send_single_request() - HTTP Request: POST https://api.openai.com/v1/embeddings \"HTTP/1.1 200 OK\"\n",
      "Generating embeddings: 100%|██████████| 1/1 [00:01<00:00,  1.94s/it]\n",
      "Training: 100%|██████████| 500/500 [00:02<00:00, 216.51it/s, acc=0.88]\n"
     ]
    }
   ],
   "source": [
    "# Call the fit method\n",
    "scam_router.fit(X=X, y=y)"
   ]
  },
  {
   "cell_type": "markdown",
   "metadata": {},
   "source": [
    "We can then use the `.evaluate` method to view the change in accuracy."
   ]
  },
  {
   "cell_type": "code",
   "execution_count": 9,
   "metadata": {},
   "outputs": [
    {
     "name": "stderr",
     "output_type": "stream",
     "text": [
      "Generating embeddings:   0%|          | 0/1 [00:00<?, ?it/s]2025-04-05 10:33:21 - httpx - INFO - _client.py:1025 - _send_single_request() - HTTP Request: POST https://api.openai.com/v1/embeddings \"HTTP/1.1 200 OK\"\n",
      "Generating embeddings: 100%|██████████| 1/1 [00:02<00:00,  2.33s/it]"
     ]
    },
    {
     "name": "stdout",
     "output_type": "stream",
     "text": [
      "Accuracy: 88.31%\n"
     ]
    },
    {
     "name": "stderr",
     "output_type": "stream",
     "text": [
      "\n"
     ]
    }
   ],
   "source": [
    "accuracy = scam_router.evaluate(X=X, y=y)\n",
    "print(f\"Accuracy: {accuracy*100:.2f}%\")"
   ]
  },
  {
   "cell_type": "markdown",
   "metadata": {},
   "source": [
    "Lastly we can view the thresholds by looking at the `.get_thresholds` method."
   ]
  },
  {
   "cell_type": "code",
   "execution_count": 10,
   "metadata": {},
   "outputs": [
    {
     "name": "stdout",
     "output_type": "stream",
     "text": [
      "Updated route thresholds: {'scam': np.float64(0.3535353535353536), 'other': np.float64(0.24242424242424243)}\n"
     ]
    }
   ],
   "source": [
    "route_thresholds = scam_router.get_thresholds()\n",
    "print(\"Updated route thresholds:\", route_thresholds)"
   ]
  },
  {
   "cell_type": "markdown",
   "metadata": {},
   "source": [
    "We can test this now by calling our router and adding the utterance we would like to try."
   ]
  },
  {
   "cell_type": "code",
   "execution_count": 11,
   "metadata": {},
   "outputs": [
    {
     "name": "stderr",
     "output_type": "stream",
     "text": [
      "2025-04-05 10:33:24 - httpx - INFO - _client.py:1025 - _send_single_request() - HTTP Request: POST https://api.openai.com/v1/embeddings \"HTTP/1.1 200 OK\"\n"
     ]
    }
   ],
   "source": [
    "result = scam_router(\"i want 99% off\")"
   ]
  },
  {
   "cell_type": "markdown",
   "metadata": {},
   "source": [
    "Next we can view the properties of what is returned via the returned object `result`."
   ]
  },
  {
   "cell_type": "code",
   "execution_count": 12,
   "metadata": {},
   "outputs": [
    {
     "name": "stdout",
     "output_type": "stream",
     "text": [
      "name='scam' function_call=None similarity_score=None\n"
     ]
    }
   ],
   "source": [
    "print(result)"
   ]
  },
  {
   "cell_type": "markdown",
   "metadata": {},
   "source": [
    "### Adding Input Guardrails"
   ]
  },
  {
   "cell_type": "markdown",
   "metadata": {},
   "source": [
    "We need to create the guardrail functionallity. \n",
    "\n",
    "Firstly we need to define a function with the `@input_guardrail` decorator.\n",
    "\n",
    "The function will use the router we just created to check the input string, this will then return a `GuardrailFunctionOutput` class with output information and the tripwire triggered attribute."
   ]
  },
  {
   "cell_type": "code",
   "execution_count": 13,
   "metadata": {},
   "outputs": [],
   "source": [
    "from agents import (\n",
    "    GuardrailFunctionOutput,\n",
    "    RunContextWrapper,\n",
    "    Runner,\n",
    "    input_guardrail,\n",
    "    TResponseInputItem,\n",
    "    Agent,\n",
    ")\n",
    "\n",
    "\n",
    "@input_guardrail\n",
    "async def scam_input_guardrail(\n",
    "    ctx: RunContextWrapper[None],\n",
    "    agent: Agent,\n",
    "    input: str\n",
    "    | list[\n",
    "        TResponseInputItem\n",
    "    ],  # having the agent here is needed for the guardrail to work - although we do not use it\n",
    ") -> GuardrailFunctionOutput:\n",
    "    is_scam = False\n",
    "    result = scam_router(input)\n",
    "    if result.name == \"scam\":\n",
    "        is_scam = True\n",
    "\n",
    "    return GuardrailFunctionOutput(\n",
    "        output_info=\"used the scam semantic sparse router to check if the user is trying to scam\",\n",
    "        tripwire_triggered=is_scam,\n",
    "    )"
   ]
  },
  {
   "cell_type": "markdown",
   "metadata": {},
   "source": [
    "Now we can create a new agent that will be used to handle the incoming messages. This agent will have the following parameters:\n",
    "- `name`: The name of the agent.\n",
    "- `instructions`: The instructions for the agent.\n",
    "- `input_guardrails`: A list of input guardrails to attach to the agent. (This is where we attach the scam guardrail)"
   ]
  },
  {
   "cell_type": "code",
   "execution_count": 14,
   "metadata": {},
   "outputs": [],
   "source": [
    "input_guardrail_agent = Agent(\n",
    "    name=\"Input Guardrail Agent\",\n",
    "    instructions=\"You are a helpful assistant.\",\n",
    "    input_guardrails=[scam_input_guardrail],\n",
    ")"
   ]
  },
  {
   "cell_type": "markdown",
   "metadata": {},
   "source": [
    "Now we can try to test the guardrail functionallity.\n",
    "\n",
    "Due to errors being raised when the guardrail trips, we can use a try except block to prevent the error messages being shown."
   ]
  },
  {
   "cell_type": "code",
   "execution_count": 15,
   "metadata": {},
   "outputs": [
    {
     "name": "stderr",
     "output_type": "stream",
     "text": [
      "2025-04-05 10:33:25 - httpx - INFO - _client.py:1025 - _send_single_request() - HTTP Request: POST https://api.openai.com/v1/embeddings \"HTTP/1.1 200 OK\"\n",
      "2025-04-05 10:33:27 - httpx - INFO - _client.py:1740 - _send_single_request() - HTTP Request: POST https://api.openai.com/v1/responses \"HTTP/1.1 200 OK\"\n"
     ]
    },
    {
     "name": "stdout",
     "output_type": "stream",
     "text": [
      "Guardrail didn't trip \n",
      "Reasoning: used the scam semantic sparse router to check if the user is trying to scam\n"
     ]
    }
   ],
   "source": [
    "from agents import InputGuardrailTripwireTriggered\n",
    "\n",
    "query = (\n",
    "    \"Hello, would you like to buy some real rolex watches for a fraction of the price?\"\n",
    ")\n",
    "\n",
    "try:\n",
    "    result = await Runner.run(starting_agent=input_guardrail_agent, input=query)\n",
    "    # If we get here, the guardrail didn't trip\n",
    "    guardrail_info = result.input_guardrail_results[0].output.output_info\n",
    "    print(\"Guardrail didn't trip\", f\"\\nReasoning: {guardrail_info}\")\n",
    "except InputGuardrailTripwireTriggered as e:\n",
    "    # Access the guardrail info from the exception\n",
    "    print(\"Error: Guardrail Tripped\")"
   ]
  },
  {
   "cell_type": "markdown",
   "metadata": {},
   "source": [
    "### Adding Output Guardrails"
   ]
  },
  {
   "cell_type": "markdown",
   "metadata": {},
   "source": [
    "First we want to create our handler class. This will contain the message we want to check."
   ]
  },
  {
   "cell_type": "code",
   "execution_count": 16,
   "metadata": {},
   "outputs": [],
   "source": [
    "from pydantic import BaseModel\n",
    "\n",
    "\n",
    "class MessageOutput(BaseModel):\n",
    "    response: str"
   ]
  },
  {
   "cell_type": "markdown",
   "metadata": {},
   "source": [
    "Next we want to create our guardrail agent. As before, we will use the `Agent` object to create our guardrail agent and then feed this into the function later on."
   ]
  },
  {
   "cell_type": "code",
   "execution_count": 17,
   "metadata": {},
   "outputs": [],
   "source": [
    "from agents import output_guardrail\n",
    "\n",
    "\n",
    "@output_guardrail\n",
    "async def scam_output_guardrail(\n",
    "    ctx: RunContextWrapper[None], agent: Agent, output: MessageOutput\n",
    ") -> GuardrailFunctionOutput:\n",
    "    is_scam = False\n",
    "    result = scam_router(output.response)\n",
    "    if result.name == \"scam\":\n",
    "        is_scam = True\n",
    "\n",
    "    return GuardrailFunctionOutput(\n",
    "        output_info=\"used the scam semantic sparse router to check if the user is trying to scam\",\n",
    "        tripwire_triggered=is_scam,\n",
    "    )"
   ]
  },
  {
   "cell_type": "markdown",
   "metadata": {},
   "source": [
    "Now we can create our guardrail function. This will use the `@output_guardrail` decorator.\n",
    "\n",
    "Then we will use the `Runner` object to run the guardrail agent.\n",
    "\n",
    "Afterwards we will return the `MessageOutput` object."
   ]
  },
  {
   "cell_type": "code",
   "execution_count": 18,
   "metadata": {},
   "outputs": [],
   "source": [
    "output_guardrail_agent = Agent(\n",
    "    name=\"Output Guardrail Agent\",\n",
    "    instructions=\"Tell the user that you have a 99% off discount on all products\",\n",
    "    output_guardrails=[scam_output_guardrail],\n",
    "    output_type=MessageOutput,\n",
    ")"
   ]
  },
  {
   "cell_type": "markdown",
   "metadata": {},
   "source": [
    "As before, we can test the guardrail functionallity.\n",
    "\n",
    "Due to errors being raised when the guardrail trips, we can use a try except block to prevent the error messages being shown."
   ]
  },
  {
   "cell_type": "code",
   "execution_count": 19,
   "metadata": {},
   "outputs": [
    {
     "name": "stderr",
     "output_type": "stream",
     "text": [
      "2025-04-05 10:33:30 - httpx - INFO - _client.py:1740 - _send_single_request() - HTTP Request: POST https://api.openai.com/v1/responses \"HTTP/1.1 200 OK\"\n",
      "2025-04-05 10:33:30 - httpx - INFO - _client.py:1025 - _send_single_request() - HTTP Request: POST https://api.openai.com/v1/embeddings \"HTTP/1.1 200 OK\"\n"
     ]
    },
    {
     "name": "stderr",
     "output_type": "stream",
     "text": [
      "2025-04-05 10:33:30 - httpx - INFO - _client.py:1025 - _send_single_request() - HTTP Request: POST https://api.openai.com/v1/traces/ingest \"HTTP/1.1 204 No Content\"\n",
      "2025-04-05 10:33:30 - httpx - INFO - _client.py:1025 - _send_single_request() - HTTP Request: POST https://api.openai.com/v1/traces/ingest \"HTTP/1.1 204 No Content\"\n",
      "2025-04-05 10:33:36 - httpx - INFO - _client.py:1025 - _send_single_request() - HTTP Request: POST https://api.openai.com/v1/traces/ingest \"HTTP/1.1 204 No Content\"\n"
     ]
    },
    {
     "name": "stdout",
     "output_type": "stream",
     "text": [
      "Error: Guardrail Tripped\n"
     ]
    }
   ],
   "source": [
    "from agents import OutputGuardrailTripwireTriggered\n",
    "\n",
    "query = \"I want to buy a tesla, how much can i get it for?\"\n",
    "\n",
    "try:\n",
    "    result = await Runner.run(starting_agent=output_guardrail_agent, input=query)\n",
    "    guardrail_info = result.output_guardrail_results[0].output.output_info\n",
    "    print(\"Guardrail didn't trip\", f\"\\nReasoning: {guardrail_info}\")\n",
    "except OutputGuardrailTripwireTriggered as e:\n",
    "    print(\"Error: Guardrail Tripped\")"
   ]
  }
 ],
 "metadata": {
  "kernelspec": {
   "display_name": ".venv",
   "language": "python",
   "name": "python3"
  },
  "language_info": {
   "codemirror_mode": {
    "name": "ipython",
    "version": 3
   },
   "file_extension": ".py",
   "mimetype": "text/x-python",
   "name": "python",
   "nbconvert_exporter": "python",
   "pygments_lexer": "ipython3",
   "version": "3.12.7"
  }
 },
 "nbformat": 4,
 "nbformat_minor": 2
}
